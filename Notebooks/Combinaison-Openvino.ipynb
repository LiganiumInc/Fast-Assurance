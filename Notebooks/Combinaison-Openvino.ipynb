{
 "cells": [
  {
   "cell_type": "code",
   "execution_count": 2,
   "metadata": {},
   "outputs": [],
   "source": [
    "#Import Libraries and Packages\n",
    "\n",
    "import os\n",
    "import json\n",
    "\n",
    "# keras imports\n",
    "from keras.preprocessing.image import img_to_array, load_img\n",
    "from keras.utils.data_utils import get_file\n",
    "from keras.applications.vgg19 import VGG19, preprocess_input\n",
    "from keras.preprocessing import image\n",
    "from keras.models import Model\n",
    "import tensorflow as tf\n",
    "from keras.models import load_model\n",
    "from openvino.runtime import Core\n",
    "\n",
    "import h5py\n",
    "import numpy as np\n",
    "import pickle as pk"
   ]
  },
  {
   "cell_type": "code",
   "execution_count": 3,
   "metadata": {},
   "outputs": [],
   "source": [
    "import warnings\n",
    "warnings.filterwarnings('ignore')"
   ]
  },
  {
   "cell_type": "code",
   "execution_count": 4,
   "metadata": {},
   "outputs": [],
   "source": [
    "from pathlib import Path"
   ]
  },
  {
   "cell_type": "code",
   "execution_count": 5,
   "metadata": {},
   "outputs": [],
   "source": [
    "# function for openvino model loading \n",
    "def OPvino_model_load(model_path):\n",
    "    \"\"\" \n",
    "    Return model IR representation and it's output key\n",
    "    \"\"\"\n",
    "    ie = Core()\n",
    "    model = ie.read_model(model=model_path, weights=Path(model_path).with_suffix(\".bin\"))\n",
    "    compiled_model = ie.compile_model(model=model, device_name=\"CPU\")\n",
    "    output_key = compiled_model.output(0)\n",
    "    return compiled_model, output_key\n"
   ]
  },
  {
   "cell_type": "code",
   "execution_count": 6,
   "metadata": {},
   "outputs": [],
   "source": [
    "\n",
    "second_model_path = \"static_openvino/damageORnot/saved_model.xml\"\n",
    "third_model_path = \"static_openvino/FRS_vgg/saved_model.xml\"\n",
    "fourth_model_path = \"static_openvino/MMS_vgg/saved_model.xml\""
   ]
  },
  {
   "cell_type": "markdown",
   "metadata": {},
   "source": [
    "Le model vgg19 convertit en IR n'a pas donné de bons résultas après inférence. On utilisera donc le vgg19 simple"
   ]
  },
  {
   "cell_type": "code",
   "execution_count": 7,
   "metadata": {},
   "outputs": [],
   "source": [
    "#Loading Models for various checks\n",
    "#first_check, first_output_key = OPvino_model_load(first_model_path)\n",
    "\n",
    "second_check, second_output_key  =  OPvino_model_load(second_model_path)\n",
    "third_check , third_output_key = OPvino_model_load(third_model_path)\n",
    "fourth_check, fourth_output_key = OPvino_model_load(fourth_model_path)"
   ]
  },
  {
   "cell_type": "code",
   "execution_count": 8,
   "metadata": {},
   "outputs": [],
   "source": [
    "# Loading  valid categories for identifying cars using VGG19\n",
    "with open('static/cat_counter.pk','rb') as f:\n",
    "    cat_counter = pk.load(f)"
   ]
  },
  {
   "cell_type": "code",
   "execution_count": 9,
   "metadata": {},
   "outputs": [
    {
     "data": {
      "text/plain": [
       "Counter({('n02814533', 'beach_wagon'): 58.054536994954105,\n",
       "         ('n03770679', 'minivan'): 136.78895090240985,\n",
       "         ('n02974003', 'car_wheel'): 21.23486805090215,\n",
       "         ('n03930630', 'pickup'): 62.5587771985447,\n",
       "         ('n03594945', 'jeep'): 38.84352175355889,\n",
       "         ('n04285008', 'sports_car'): 119.89040146674961,\n",
       "         ('n04037443', 'racer'): 52.93018546697567,\n",
       "         ('n02930766', 'cab'): 20.662175073637627,\n",
       "         ('n03100240', 'convertible'): 74.37932709977031,\n",
       "         ('n03459775', 'grille'): 14.798470051027834,\n",
       "         ('n04461696', 'tow_truck'): 18.27004921430489,\n",
       "         ('n02701002', 'ambulance'): 5.881439484655857,\n",
       "         ('n03977966', 'police_van'): 7.475097002694383,\n",
       "         ('n03769881', 'minibus'): 24.768777273769956,\n",
       "         ('n03792972', 'mountain_tent'): 0.5388924267608672,\n",
       "         ('n03670208', 'limousine'): 42.237966875662096,\n",
       "         ('n03796401', 'moving_van'): 12.216814251849428,\n",
       "         ('n02965783', 'car_mirror'): 1.5039696330204606,\n",
       "         ('n04065272', 'recreational_vehicle'): 4.032734472886659,\n",
       "         ('n04467665', 'trailer_truck'): 2.8680465372744948,\n",
       "         ('n03417042', 'garbage_truck'): 0.9048930145800114,\n",
       "         ('n04487081', 'trolleybus'): 0.8613410219550133,\n",
       "         ('n03127747', 'crash_helmet'): 1.104599379003048,\n",
       "         ('n03793489', 'mouse'): 0.04730699397623539,\n",
       "         ('n04517823', 'vacuum'): 0.7776779350824654,\n",
       "         ('n04252225', 'snowplow'): 8.027084537199698,\n",
       "         ('n03895866', 'passenger_car'): 0.7032471919010277,\n",
       "         ('n03444034', 'go-kart'): 0.603166961343959,\n",
       "         ('n03445924', 'golfcart'): 1.3466276926919818,\n",
       "         ('n03345487', 'fire_engine'): 1.563945636502467,\n",
       "         ('n02704792', 'amphibian'): 1.1696973675861955,\n",
       "         ('n04009552', 'projector'): 0.15034137666225433,\n",
       "         ('n03891332', 'parking_meter'): 2.053139263764024,\n",
       "         ('n04311004', 'steel_arch_bridge'): 0.003816954093053937,\n",
       "         ('n03776460', 'mobile_home'): 0.8483257992193103,\n",
       "         ('n03791053', 'motor_scooter'): 1.5093002384528518,\n",
       "         ('n04286575', 'spotlight'): 0.03816751390695572,\n",
       "         ('n03777568', 'Model_T'): 1.521598806604743,\n",
       "         ('n03478589', 'half_track'): 0.6697674756869674,\n",
       "         ('n04252077', 'snowmobile'): 1.253569258376956,\n",
       "         ('n02860847', 'bobsled'): 0.8933684043586254,\n",
       "         ('n03662601', 'lifeboat'): 0.03224649280309677,\n",
       "         ('n03584829', 'iron'): 0.05630398541688919,\n",
       "         ('n03197337', 'digital_watch'): 0.25016631931066513,\n",
       "         ('n03976467', 'Polaroid_camera'): 0.42384369671344757,\n",
       "         ('n04465501', 'tractor'): 0.11203645169734955,\n",
       "         ('n03649909', 'lawn_mower'): 0.42735726945102215,\n",
       "         ('n04120489', 'running_shoe'): 0.43946176767349243,\n",
       "         ('n04254680', 'soccer_ball'): 0.2174234539270401,\n",
       "         ('n04482393', 'tricycle'): 0.0643668845295906,\n",
       "         ('n02917067', 'bullet_train'): 0.9460530877113342,\n",
       "         ('n04208210', 'shovel'): 0.0695822462439537,\n",
       "         ('n06794110', 'street_sign'): 0.13426194339990616,\n",
       "         ('n04613696', 'yurt'): 0.0354720838367939,\n",
       "         ('n03457902', 'greenhouse'): 0.0988786444067955,\n",
       "         ('n04239074', 'sliding_door'): 0.029190586879849434,\n",
       "         ('n04070727', 'refrigerator'): 0.027013028040528297,\n",
       "         ('n04456115', 'torch'): 0.6773146390914917,\n",
       "         ('n03355925', 'flagpole'): 0.027007170021533966,\n",
       "         ('n02992529', 'cellular_telephone'): 0.08157152682542801,\n",
       "         ('n02979186', 'cassette_player'): 0.06454651802778244,\n",
       "         ('n04041544', 'radio'): 0.04403465986251831,\n",
       "         ('n04146614', 'school_bus'): 0.00827215239405632,\n",
       "         ('n03538406', 'horse_cart'): 0.0910758376121521,\n",
       "         ('n04606251', 'wreck'): 0.08928916603326797,\n",
       "         ('n09428293', 'seashore'): 0.08796482533216476,\n",
       "         ('n09193705', 'alp'): 0.26040884852409363,\n",
       "         ('n09468604', 'valley'): 0.03744205832481384,\n",
       "         ('n02977058', 'cash_machine'): 0.054212525486946106,\n",
       "         ('n02747177', 'ashcan'): 0.18733350187540054,\n",
       "         ('n03785016', 'moped'): 0.153371199965477,\n",
       "         ('n04335435', 'streetcar'): 0.2926669642329216,\n",
       "         ('n03976657', 'pole'): 0.04967193678021431,\n",
       "         ('n02988304', 'CD_player'): 0.12579381465911865,\n",
       "         ('n04542943', 'waffle_iron'): 0.09624052047729492,\n",
       "         ('n03916031', 'perfume'): 0.03870575502514839,\n",
       "         ('n04442312', 'toaster'): 0.032179951667785645,\n",
       "         ('n03908714', 'pencil_sharpener'): 0.030142752453684807,\n",
       "         ('n04258138', 'solar_dish'): 0.07237427681684494,\n",
       "         ('n06874185', 'traffic_light'): 0.1239427924156189,\n",
       "         ('n04069434', 'reflex_camera'): 0.10424132645130157,\n",
       "         ('n02916936', 'bulletproof_vest'): 0.018938442692160606,\n",
       "         ('n02769748', 'backpack'): 0.107095867395401,\n",
       "         ('n06359193', 'web_site'): 0.08042708039283752,\n",
       "         ('n03032252', 'cinema'): 0.03443051129579544,\n",
       "         ('n03384352', 'forklift'): 0.007923702709376812})"
      ]
     },
     "execution_count": 9,
     "metadata": {},
     "output_type": "execute_result"
    }
   ],
   "source": [
    "cat_counter"
   ]
  },
  {
   "cell_type": "code",
   "execution_count": 10,
   "metadata": {},
   "outputs": [],
   "source": [
    "# shortlisting top 27 Categories that VGG16 stores for cars (Can be altered for less or more)\n",
    "cat_list  = [k for k, v in cat_counter.most_common()[:27]]"
   ]
  },
  {
   "cell_type": "code",
   "execution_count": 11,
   "metadata": {},
   "outputs": [
    {
     "data": {
      "text/plain": [
       "[('n03770679', 'minivan'),\n",
       " ('n04285008', 'sports_car'),\n",
       " ('n03100240', 'convertible'),\n",
       " ('n03930630', 'pickup'),\n",
       " ('n02814533', 'beach_wagon'),\n",
       " ('n04037443', 'racer'),\n",
       " ('n03670208', 'limousine'),\n",
       " ('n03594945', 'jeep'),\n",
       " ('n03769881', 'minibus'),\n",
       " ('n02974003', 'car_wheel'),\n",
       " ('n02930766', 'cab'),\n",
       " ('n04461696', 'tow_truck'),\n",
       " ('n03459775', 'grille'),\n",
       " ('n03796401', 'moving_van'),\n",
       " ('n04252225', 'snowplow'),\n",
       " ('n03977966', 'police_van'),\n",
       " ('n02701002', 'ambulance'),\n",
       " ('n04065272', 'recreational_vehicle'),\n",
       " ('n04467665', 'trailer_truck'),\n",
       " ('n03891332', 'parking_meter'),\n",
       " ('n03345487', 'fire_engine'),\n",
       " ('n03777568', 'Model_T'),\n",
       " ('n03791053', 'motor_scooter'),\n",
       " ('n02965783', 'car_mirror'),\n",
       " ('n03445924', 'golfcart'),\n",
       " ('n04252077', 'snowmobile'),\n",
       " ('n02704792', 'amphibian')]"
      ]
     },
     "execution_count": 11,
     "metadata": {},
     "output_type": "execute_result"
    }
   ],
   "source": [
    "cat_list"
   ]
  },
  {
   "cell_type": "markdown",
   "metadata": {},
   "source": [
    "First Check - Car or not"
   ]
  },
  {
   "cell_type": "code",
   "execution_count": 12,
   "metadata": {},
   "outputs": [],
   "source": [
    "CLASS_INDEX = None"
   ]
  },
  {
   "cell_type": "code",
   "execution_count": 13,
   "metadata": {},
   "outputs": [],
   "source": [
    "CLASS_INDEX_PATH = 'static/imagenet_class_index.json'"
   ]
  },
  {
   "cell_type": "code",
   "execution_count": 14,
   "metadata": {},
   "outputs": [],
   "source": [
    "def get_predictions(preds,top=5):\n",
    "    global CLASS_INDEX\n",
    "    \n",
    "    #Load the jason file\n",
    "    CLASS_INDEX = json.load(open(CLASS_INDEX_PATH))\n",
    "    \n",
    "    #get the results\n",
    "    results = []\n",
    "    for pred in preds:\n",
    "        top_indices = pred.argsort()[-top:][::-1]\n",
    "        result = [tuple(CLASS_INDEX[str(i)]) + (pred[i],) for i in top_indices]\n",
    "        result.sort(key=lambda x: x[2], reverse=True)\n",
    "        results.append(result)\n",
    "    return results"
   ]
  },
  {
   "cell_type": "code",
   "execution_count": 15,
   "metadata": {},
   "outputs": [],
   "source": [
    "def prepare_img_224(img_path):\n",
    "    img = load_img(img_path, target_size=(224, 224))\n",
    "    x = img_to_array(img)\n",
    "    x = np.expand_dims(x, axis=0)\n",
    "    x = preprocess_input(x)\n",
    "    return x"
   ]
  },
  {
   "cell_type": "code",
   "execution_count": null,
   "metadata": {},
   "outputs": [],
   "source": []
  },
  {
   "cell_type": "code",
   "execution_count": 17,
   "metadata": {},
   "outputs": [],
   "source": [
    "def car_categories_check(img_224):\n",
    "    \n",
    "    #image = np.reshape(image,(1,3,224,224))\n",
    "    \n",
    "    #out = model([image])[output_key]\n",
    "    \n",
    "    first_check = load_model('static/vgg19.h5')\n",
    "    print (\"Validating that this is a picture of your car...\")\n",
    "    \n",
    "    out = first_check.predict(img_224)\n",
    "    top = get_predictions(out, top=5)\n",
    "    for j in top[0]:\n",
    "        if j[0:2] in cat_list:\n",
    "            print (\"Car Check Passed!!!\")\n",
    "            print (\"\\n\")\n",
    "            return True \n",
    "    return False "
   ]
  },
  {
   "cell_type": "markdown",
   "metadata": {},
   "source": [
    "Second Check - Damaged or not"
   ]
  },
  {
   "cell_type": "code",
   "execution_count": 18,
   "metadata": {},
   "outputs": [],
   "source": [
    "def car_damage_check(model,output_key, image):\n",
    "    print (\"Validating that damage exists...\")\n",
    "    \n",
    "    result = model([image])[output_key]\n",
    "\n",
    "    prediction = int(result[0])\n",
    "    \n",
    "    if prediction == 1:\n",
    "        print (\"Validation complete - proceeding to location and severity determination\")\n",
    "        print (\"\\n\")\n",
    "        return True \n",
    "    else:\n",
    "        print(\"bla\")\n",
    "        return False"
   ]
  },
  {
   "cell_type": "markdown",
   "metadata": {},
   "source": [
    "Third Check - Location Assesment"
   ]
  },
  {
   "cell_type": "code",
   "execution_count": 19,
   "metadata": {},
   "outputs": [],
   "source": [
    "def location_assessment(model,output_key,image):\n",
    "    print (\"Validating the damage area - Front, Rear or Side\")\n",
    "    \n",
    "    labels = [\"Front\",\"Rear\",\"Side\"]\n",
    "    \n",
    "    result = model([image])[output_key]\n",
    "    \n",
    "    result_index = np.argmax(result)\n",
    "\n",
    "    prediction = labels[result_index]\n",
    "    \n",
    "    print (\"Your Car is damaged at - \" + prediction)\n",
    "    print (\"Location assesment complete\")\n",
    "    print(\"\\n\")"
   ]
  },
  {
   "cell_type": "markdown",
   "metadata": {},
   "source": [
    "Fourth Check - Severity Assesment"
   ]
  },
  {
   "cell_type": "code",
   "execution_count": 20,
   "metadata": {},
   "outputs": [],
   "source": [
    "def severity_assessment(model,output_key,image):\n",
    "    print (\"Validating the Severity...\")\n",
    "    \n",
    "    labels = [\"Minor\",\"Moderate\",\"Severe\"]\n",
    "    \n",
    "    result = model([image])[output_key]\n",
    "    \n",
    "    result_index = np.argmax(result)\n",
    "\n",
    "    prediction = labels[result_index]\n",
    "    \n",
    "    \n",
    "    print (\"Your Car damage impact is - \" + prediction)\n",
    "    print (\"Severity assesment complete\")\n",
    "    print (\"\\n\")\n",
    "    print (\"Thank you\")\n",
    "    "
   ]
  },
  {
   "cell_type": "markdown",
   "metadata": {},
   "source": [
    "Engine"
   ]
  },
  {
   "cell_type": "code",
   "execution_count": 21,
   "metadata": {},
   "outputs": [],
   "source": [
    "\n",
    "def engine(img):\n",
    "    while True:\n",
    "        try:\n",
    "            img_224 = prepare_img_224(img)\n",
    "            g1 = car_categories_check(img_224)\n",
    "\n",
    "            if g1 is False:\n",
    "                print (\"Are you sure this is a picture of your car? Please submit another picture of the damage.\")\n",
    "                print (\"Hint: Try zooming in/out, using a different angle or different lighting.\")\n",
    "                break\n",
    "\n",
    "            g2 = car_damage_check(second_check,second_output_key, img_224)\n",
    "\n",
    "            if g2 is False:\n",
    "                print (\"Are you sure that your car is damaged? Please submit another picture of the damage.\")\n",
    "                print (\"Hint: Try zooming in/out, using a different angle or different lighting.\")\n",
    "#                 break\n",
    "\n",
    "            x = location_assessment(third_check,third_output_key,img_224)\n",
    "            y = severity_assessment(fourth_check,fourth_output_key,img_224)\n",
    "            break\n",
    "        except e:\n",
    "            print(e)\n",
    "            print (\"Image not accessible. Please try again.\")\n",
    "            break"
   ]
  },
  {
   "cell_type": "code",
   "execution_count": 22,
   "metadata": {},
   "outputs": [
    {
     "name": "stderr",
     "output_type": "stream",
     "text": [
      "2022-09-13 17:03:25.832515: W tensorflow/stream_executor/platform/default/dso_loader.cc:64] Could not load dynamic library 'libcuda.so.1'; dlerror: libcuda.so.1: cannot open shared object file: No such file or directory\n",
      "2022-09-13 17:03:25.832577: W tensorflow/stream_executor/cuda/cuda_driver.cc:269] failed call to cuInit: UNKNOWN ERROR (303)\n",
      "2022-09-13 17:03:25.832616: I tensorflow/stream_executor/cuda/cuda_diagnostics.cc:156] kernel driver does not appear to be running on this host (liganium-HP): /proc/driver/nvidia/version does not exist\n",
      "2022-09-13 17:03:25.838099: I tensorflow/core/platform/cpu_feature_guard.cc:151] This TensorFlow binary is optimized with oneAPI Deep Neural Network Library (oneDNN) to use the following CPU instructions in performance-critical operations:  AVX2 AVX512F FMA\n",
      "To enable them in other operations, rebuild TensorFlow with the appropriate compiler flags.\n",
      "2022-09-13 17:03:26.469596: W tensorflow/core/framework/cpu_allocator_impl.cc:82] Allocation of 411041792 exceeds 10% of free system memory.\n",
      "2022-09-13 17:03:26.665000: W tensorflow/core/framework/cpu_allocator_impl.cc:82] Allocation of 411041792 exceeds 10% of free system memory.\n",
      "2022-09-13 17:03:26.740497: W tensorflow/core/framework/cpu_allocator_impl.cc:82] Allocation of 411041792 exceeds 10% of free system memory.\n"
     ]
    },
    {
     "name": "stdout",
     "output_type": "stream",
     "text": [
      "WARNING:tensorflow:No training configuration found in the save file, so the model was *not* compiled. Compile it manually.\n"
     ]
    },
    {
     "name": "stderr",
     "output_type": "stream",
     "text": [
      "2022-09-13 17:03:32.950905: W tensorflow/core/framework/cpu_allocator_impl.cc:82] Allocation of 411041792 exceeds 10% of free system memory.\n"
     ]
    },
    {
     "name": "stdout",
     "output_type": "stream",
     "text": [
      "Validating that this is a picture of your car...\n",
      "Are you sure this is a picture of your car? Please submit another picture of the damage.\n",
      "Hint: Try zooming in/out, using a different angle or different lighting.\n"
     ]
    }
   ],
   "source": [
    "img_path = 'engine/fleur.jpeg'\n",
    "engine(img_path)"
   ]
  },
  {
   "cell_type": "code",
   "execution_count": 23,
   "metadata": {},
   "outputs": [
    {
     "name": "stderr",
     "output_type": "stream",
     "text": [
      "2022-09-13 17:03:35.433019: W tensorflow/core/framework/cpu_allocator_impl.cc:82] Allocation of 411041792 exceeds 10% of free system memory.\n"
     ]
    },
    {
     "name": "stdout",
     "output_type": "stream",
     "text": [
      "WARNING:tensorflow:No training configuration found in the save file, so the model was *not* compiled. Compile it manually.\n",
      "Validating that this is a picture of your car...\n",
      "Car Check Passed!!!\n",
      "\n",
      "\n",
      "Validating that damage exists...\n",
      "Validation complete - proceeding to location and severity determination\n",
      "\n",
      "\n",
      "Validating the damage area - Front, Rear or Side\n",
      "Your Car is damaged at - Side\n",
      "Location assesment complete\n",
      "\n",
      "\n",
      "Validating the Severity...\n",
      "Your Car damage impact is - Severe\n",
      "Severity assesment complete\n",
      "\n",
      "\n",
      "Thank you\n"
     ]
    }
   ],
   "source": [
    "img_path = 'engine/image1.jpg'\n",
    "engine(img_path)"
   ]
  },
  {
   "cell_type": "code",
   "execution_count": 24,
   "metadata": {},
   "outputs": [
    {
     "name": "stdout",
     "output_type": "stream",
     "text": [
      "WARNING:tensorflow:No training configuration found in the save file, so the model was *not* compiled. Compile it manually.\n",
      "Validating that this is a picture of your car...\n",
      "Car Check Passed!!!\n",
      "\n",
      "\n",
      "Validating that damage exists...\n",
      "Validation complete - proceeding to location and severity determination\n",
      "\n",
      "\n",
      "Validating the damage area - Front, Rear or Side\n",
      "Your Car is damaged at - Front\n",
      "Location assesment complete\n",
      "\n",
      "\n",
      "Validating the Severity...\n",
      "Your Car damage impact is - Moderate\n",
      "Severity assesment complete\n",
      "\n",
      "\n",
      "Thank you\n"
     ]
    }
   ],
   "source": [
    "img_path = 'engine/158.jpg'\n",
    "engine(img_path)"
   ]
  },
  {
   "cell_type": "code",
   "execution_count": 25,
   "metadata": {},
   "outputs": [
    {
     "name": "stdout",
     "output_type": "stream",
     "text": [
      "WARNING:tensorflow:No training configuration found in the save file, so the model was *not* compiled. Compile it manually.\n",
      "Validating that this is a picture of your car...\n",
      "Car Check Passed!!!\n",
      "\n",
      "\n",
      "Validating that damage exists...\n",
      "Validation complete - proceeding to location and severity determination\n",
      "\n",
      "\n",
      "Validating the damage area - Front, Rear or Side\n",
      "Your Car is damaged at - Rear\n",
      "Location assesment complete\n",
      "\n",
      "\n",
      "Validating the Severity...\n",
      "Your Car damage impact is - Severe\n",
      "Severity assesment complete\n",
      "\n",
      "\n",
      "Thank you\n"
     ]
    }
   ],
   "source": [
    "img_path = 'engine/7.jpg'\n",
    "engine(img_path)"
   ]
  },
  {
   "cell_type": "code",
   "execution_count": 26,
   "metadata": {},
   "outputs": [
    {
     "name": "stdout",
     "output_type": "stream",
     "text": [
      "WARNING:tensorflow:No training configuration found in the save file, so the model was *not* compiled. Compile it manually.\n",
      "Validating that this is a picture of your car...\n",
      "WARNING:tensorflow:5 out of the last 5 calls to <function Model.make_predict_function.<locals>.predict_function at 0x7f28a0646a60> triggered tf.function retracing. Tracing is expensive and the excessive number of tracings could be due to (1) creating @tf.function repeatedly in a loop, (2) passing tensors with different shapes, (3) passing Python objects instead of tensors. For (1), please define your @tf.function outside of the loop. For (2), @tf.function has experimental_relax_shapes=True option that relaxes argument shapes that can avoid unnecessary retracing. For (3), please refer to https://www.tensorflow.org/guide/function#controlling_retracing and https://www.tensorflow.org/api_docs/python/tf/function for  more details.\n",
      "Car Check Passed!!!\n",
      "\n",
      "\n",
      "Validating that damage exists...\n",
      "Validation complete - proceeding to location and severity determination\n",
      "\n",
      "\n",
      "Validating the damage area - Front, Rear or Side\n",
      "Your Car is damaged at - Rear\n",
      "Location assesment complete\n",
      "\n",
      "\n",
      "Validating the Severity...\n",
      "Your Car damage impact is - Minor\n",
      "Severity assesment complete\n",
      "\n",
      "\n",
      "Thank you\n"
     ]
    }
   ],
   "source": [
    "img_path = 'engine/48.jpg'\n",
    "engine(img_path)"
   ]
  },
  {
   "cell_type": "code",
   "execution_count": 27,
   "metadata": {},
   "outputs": [
    {
     "name": "stdout",
     "output_type": "stream",
     "text": [
      "WARNING:tensorflow:No training configuration found in the save file, so the model was *not* compiled. Compile it manually.\n",
      "Validating that this is a picture of your car...\n",
      "WARNING:tensorflow:6 out of the last 6 calls to <function Model.make_predict_function.<locals>.predict_function at 0x7f28a0528940> triggered tf.function retracing. Tracing is expensive and the excessive number of tracings could be due to (1) creating @tf.function repeatedly in a loop, (2) passing tensors with different shapes, (3) passing Python objects instead of tensors. For (1), please define your @tf.function outside of the loop. For (2), @tf.function has experimental_relax_shapes=True option that relaxes argument shapes that can avoid unnecessary retracing. For (3), please refer to https://www.tensorflow.org/guide/function#controlling_retracing and https://www.tensorflow.org/api_docs/python/tf/function for  more details.\n",
      "Are you sure this is a picture of your car? Please submit another picture of the damage.\n",
      "Hint: Try zooming in/out, using a different angle or different lighting.\n"
     ]
    }
   ],
   "source": [
    "img_path = 'engine/56.jpg'\n",
    "engine(img_path)"
   ]
  },
  {
   "cell_type": "code",
   "execution_count": 28,
   "metadata": {},
   "outputs": [
    {
     "name": "stdout",
     "output_type": "stream",
     "text": [
      "WARNING:tensorflow:No training configuration found in the save file, so the model was *not* compiled. Compile it manually.\n",
      "Validating that this is a picture of your car...\n",
      "Car Check Passed!!!\n",
      "\n",
      "\n",
      "Validating that damage exists...\n",
      "Validation complete - proceeding to location and severity determination\n",
      "\n",
      "\n",
      "Validating the damage area - Front, Rear or Side\n",
      "Your Car is damaged at - Front\n",
      "Location assesment complete\n",
      "\n",
      "\n",
      "Validating the Severity...\n",
      "Your Car damage impact is - Severe\n",
      "Severity assesment complete\n",
      "\n",
      "\n",
      "Thank you\n"
     ]
    }
   ],
   "source": [
    "img_path = 'engine/53.jpg'\n",
    "engine(img_path)"
   ]
  },
  {
   "cell_type": "code",
   "execution_count": null,
   "metadata": {},
   "outputs": [],
   "source": []
  },
  {
   "cell_type": "code",
   "execution_count": null,
   "metadata": {},
   "outputs": [],
   "source": []
  },
  {
   "cell_type": "code",
   "execution_count": null,
   "metadata": {},
   "outputs": [],
   "source": []
  },
  {
   "cell_type": "code",
   "execution_count": null,
   "metadata": {},
   "outputs": [],
   "source": []
  },
  {
   "cell_type": "code",
   "execution_count": null,
   "metadata": {},
   "outputs": [],
   "source": []
  }
 ],
 "metadata": {
  "kernelspec": {
   "display_name": "Python 3 (ipykernel)",
   "language": "python",
   "name": "python3"
  },
  "language_info": {
   "codemirror_mode": {
    "name": "ipython",
    "version": 3
   },
   "file_extension": ".py",
   "mimetype": "text/x-python",
   "name": "python",
   "nbconvert_exporter": "python",
   "pygments_lexer": "ipython3",
   "version": "3.9.12"
  }
 },
 "nbformat": 4,
 "nbformat_minor": 2
}
