{
 "cells": [
  {
   "cell_type": "code",
   "execution_count": 1,
   "metadata": {
    "colab": {
     "base_uri": "https://localhost:8080/"
    },
    "executionInfo": {
     "elapsed": 21269,
     "status": "ok",
     "timestamp": 1662916400288,
     "user": {
      "displayName": "Bernardin LIGAN",
      "userId": "05699251141962295950"
     },
     "user_tz": -60
    },
    "id": "EXsIitfbUGEg",
    "outputId": "2017f2ff-e651-460f-cbc3-a149b42ff6f0"
   },
   "outputs": [
    {
     "name": "stdout",
     "output_type": "stream",
     "text": [
      "Mounted at /content/drive\n"
     ]
    }
   ],
   "source": [
    "import os\n",
    "\n",
    "from google.colab import drive\n",
    "drive.mount('/content/drive')"
   ]
  },
  {
   "cell_type": "code",
   "execution_count": 1,
   "metadata": {
    "executionInfo": {
     "elapsed": 413,
     "status": "ok",
     "timestamp": 1662916417905,
     "user": {
      "displayName": "Bernardin LIGAN",
      "userId": "05699251141962295950"
     },
     "user_tz": -60
    },
    "id": "ALk6OqpQbhuq"
   },
   "outputs": [],
   "source": []
  },
  {
   "cell_type": "markdown",
   "metadata": {
    "id": "ZmTUd9wYbibu"
   },
   "source": [
    "Load VGG19 pretrained model and freeze the layers without the FC layers"
   ]
  },
  {
   "cell_type": "code",
   "execution_count": 2,
   "metadata": {
    "colab": {
     "base_uri": "https://localhost:8080/"
    },
    "executionInfo": {
     "elapsed": 6178,
     "status": "ok",
     "timestamp": 1662916425663,
     "user": {
      "displayName": "Bernardin LIGAN",
      "userId": "05699251141962295950"
     },
     "user_tz": -60
    },
    "id": "_VsPRq-sagqk",
    "outputId": "c8642db0-50fb-4d44-c1bd-050993159338"
   },
   "outputs": [
    {
     "name": "stdout",
     "output_type": "stream",
     "text": [
      "Downloading data from https://storage.googleapis.com/tensorflow/keras-applications/vgg19/vgg19_weights_tf_dim_ordering_tf_kernels_notop.h5\n",
      "80142336/80134624 [==============================] - 0s 0us/step\n",
      "80150528/80134624 [==============================] - 0s 0us/step\n"
     ]
    }
   ],
   "source": [
    "from tensorflow.keras.applications import VGG19\n",
    "\n",
    "# VGG19 was designed to work on 224 x 224 pixel input images sizes\n",
    "img_rows = 224\n",
    "img_cols = 224 \n",
    "\n",
    "# loads the VGG19 model without the top or FC layers\n",
    "vgg19 = VGG19(weights = 'imagenet', \n",
    "                 include_top = False, \n",
    "                 input_shape = (img_rows, img_cols, 3))\n",
    "\n",
    "# Here we freeze the FC layers \n",
    "# Layers are set to trainable as True by default\n",
    "for layer in vgg19.layers:\n",
    "    layer.trainable = False\n",
    "    \n"
   ]
  },
  {
   "cell_type": "code",
   "execution_count": 2,
   "metadata": {
    "executionInfo": {
     "elapsed": 384,
     "status": "ok",
     "timestamp": 1662916427597,
     "user": {
      "displayName": "Bernardin LIGAN",
      "userId": "05699251141962295950"
     },
     "user_tz": -60
    },
    "id": "o8t_2NZQb45Q"
   },
   "outputs": [],
   "source": []
  },
  {
   "cell_type": "markdown",
   "metadata": {
    "id": "Whz1uF3Gcsmc"
   },
   "source": [
    "Let's make a function that returns our FC Head"
   ]
  },
  {
   "cell_type": "code",
   "execution_count": 3,
   "metadata": {
    "executionInfo": {
     "elapsed": 309,
     "status": "ok",
     "timestamp": 1662916429642,
     "user": {
      "displayName": "Bernardin LIGAN",
      "userId": "05699251141962295950"
     },
     "user_tz": -60
    },
    "id": "_G53OjxLct_F"
   },
   "outputs": [],
   "source": [
    "def addTopModel(bottom_model, num_classes, D=512):\n",
    "    \"\"\"creates the top or head of the model that will be \n",
    "    placed ontop of the bottom layers\"\"\"\n",
    "    top_model = bottom_model.output\n",
    "    top_model = Flatten(name = \"flatten\")(top_model)\n",
    "    top_model = Dense(D, activation = \"relu\")(top_model)\n",
    "    top_model = Dense(256, activation = \"relu\")(top_model)\n",
    "    top_model = Dropout(0.5)(top_model)\n",
    "    top_model = Dense(num_classes, activation = \"sigmoid\")(top_model)\n",
    "    return top_model"
   ]
  },
  {
   "cell_type": "markdown",
   "metadata": {
    "id": "6uT-I6PCc-9e"
   },
   "source": [
    "Let's add our FC Head back onto VGG"
   ]
  },
  {
   "cell_type": "code",
   "execution_count": 4,
   "metadata": {
    "colab": {
     "base_uri": "https://localhost:8080/"
    },
    "executionInfo": {
     "elapsed": 531,
     "status": "ok",
     "timestamp": 1662916432416,
     "user": {
      "displayName": "Bernardin LIGAN",
      "userId": "05699251141962295950"
     },
     "user_tz": -60
    },
    "id": "B5s83uU_c4qy",
    "outputId": "5a8fcafd-e84e-4b13-d8b5-d97906cafe19"
   },
   "outputs": [
    {
     "name": "stdout",
     "output_type": "stream",
     "text": [
      "Model: \"model\"\n",
      "_________________________________________________________________\n",
      " Layer (type)                Output Shape              Param #   \n",
      "=================================================================\n",
      " input_1 (InputLayer)        [(None, 224, 224, 3)]     0         \n",
      "                                                                 \n",
      " block1_conv1 (Conv2D)       (None, 224, 224, 64)      1792      \n",
      "                                                                 \n",
      " block1_conv2 (Conv2D)       (None, 224, 224, 64)      36928     \n",
      "                                                                 \n",
      " block1_pool (MaxPooling2D)  (None, 112, 112, 64)      0         \n",
      "                                                                 \n",
      " block2_conv1 (Conv2D)       (None, 112, 112, 128)     73856     \n",
      "                                                                 \n",
      " block2_conv2 (Conv2D)       (None, 112, 112, 128)     147584    \n",
      "                                                                 \n",
      " block2_pool (MaxPooling2D)  (None, 56, 56, 128)       0         \n",
      "                                                                 \n",
      " block3_conv1 (Conv2D)       (None, 56, 56, 256)       295168    \n",
      "                                                                 \n",
      " block3_conv2 (Conv2D)       (None, 56, 56, 256)       590080    \n",
      "                                                                 \n",
      " block3_conv3 (Conv2D)       (None, 56, 56, 256)       590080    \n",
      "                                                                 \n",
      " block3_conv4 (Conv2D)       (None, 56, 56, 256)       590080    \n",
      "                                                                 \n",
      " block3_pool (MaxPooling2D)  (None, 28, 28, 256)       0         \n",
      "                                                                 \n",
      " block4_conv1 (Conv2D)       (None, 28, 28, 512)       1180160   \n",
      "                                                                 \n",
      " block4_conv2 (Conv2D)       (None, 28, 28, 512)       2359808   \n",
      "                                                                 \n",
      " block4_conv3 (Conv2D)       (None, 28, 28, 512)       2359808   \n",
      "                                                                 \n",
      " block4_conv4 (Conv2D)       (None, 28, 28, 512)       2359808   \n",
      "                                                                 \n",
      " block4_pool (MaxPooling2D)  (None, 14, 14, 512)       0         \n",
      "                                                                 \n",
      " block5_conv1 (Conv2D)       (None, 14, 14, 512)       2359808   \n",
      "                                                                 \n",
      " block5_conv2 (Conv2D)       (None, 14, 14, 512)       2359808   \n",
      "                                                                 \n",
      " block5_conv3 (Conv2D)       (None, 14, 14, 512)       2359808   \n",
      "                                                                 \n",
      " block5_conv4 (Conv2D)       (None, 14, 14, 512)       2359808   \n",
      "                                                                 \n",
      " block5_pool (MaxPooling2D)  (None, 7, 7, 512)         0         \n",
      "                                                                 \n",
      " flatten (Flatten)           (None, 25088)             0         \n",
      "                                                                 \n",
      " dense (Dense)               (None, 512)               12845568  \n",
      "                                                                 \n",
      " dense_1 (Dense)             (None, 256)               131328    \n",
      "                                                                 \n",
      " dropout (Dropout)           (None, 256)               0         \n",
      "                                                                 \n",
      " dense_2 (Dense)             (None, 1)                 257       \n",
      "                                                                 \n",
      "=================================================================\n",
      "Total params: 33,001,537\n",
      "Trainable params: 12,977,153\n",
      "Non-trainable params: 20,024,384\n",
      "_________________________________________________________________\n",
      "None\n"
     ]
    }
   ],
   "source": [
    "from tensorflow.keras.models import Sequential\n",
    "from tensorflow.keras.layers import Dense, Dropout, Activation, Flatten\n",
    "from tensorflow.keras.layers import Conv2D, MaxPooling2D, ZeroPadding2D\n",
    "from tensorflow.keras.layers import BatchNormalization\n",
    "from tensorflow.keras.models import Model\n",
    "\n",
    "num_classes = 1\n",
    "\n",
    "FC_Head = addTopModel(vgg19, num_classes=1)\n",
    "\n",
    "model = Model(inputs=vgg19.input, outputs=FC_Head)\n",
    "\n",
    "print(model.summary())"
   ]
  },
  {
   "cell_type": "markdown",
   "metadata": {
    "id": "illBnqpne6aq"
   },
   "source": [
    "Loading our Dataset + Data Augmentation"
   ]
  },
  {
   "cell_type": "code",
   "execution_count": 5,
   "metadata": {
    "colab": {
     "base_uri": "https://localhost:8080/"
    },
    "executionInfo": {
     "elapsed": 5024,
     "status": "ok",
     "timestamp": 1662916439989,
     "user": {
      "displayName": "Bernardin LIGAN",
      "userId": "05699251141962295950"
     },
     "user_tz": -60
    },
    "id": "nLOXjSN9exMl",
    "outputId": "d0d1ab79-0352-4f0f-a1d3-09d9b90c8a98"
   },
   "outputs": [
    {
     "name": "stdout",
     "output_type": "stream",
     "text": [
      "Found 1840 images belonging to 2 classes.\n",
      "Found 460 images belonging to 2 classes.\n"
     ]
    }
   ],
   "source": [
    "from tensorflow.keras.preprocessing.image import ImageDataGenerator\n",
    "\n",
    "train_data_dir = '/content/drive/MyDrive/car_damage_dataset/data1a/training'\n",
    "validation_data_dir = '/content/drive/MyDrive/car_damage_dataset/data1a/validation'\n",
    "\n",
    "train_datagen = ImageDataGenerator(\n",
    "      rescale=1./255,\n",
    "      rotation_range=20,\n",
    "      width_shift_range=0.2,\n",
    "      height_shift_range=0.2,\n",
    "      horizontal_flip=True,\n",
    "      fill_mode='nearest')\n",
    " \n",
    "validation_datagen = ImageDataGenerator(rescale=1./255)\n",
    " \n",
    "# Change the batchsize according to your system RAM\n",
    "batchsize = 32\n",
    "\n",
    " \n",
    "train_generator = train_datagen.flow_from_directory(\n",
    "        train_data_dir,\n",
    "        target_size=(img_rows, img_cols),\n",
    "        batch_size=batchsize,\n",
    "        class_mode='binary')\n",
    " \n",
    "validation_generator = validation_datagen.flow_from_directory(\n",
    "        validation_data_dir,\n",
    "        target_size=(img_rows, img_cols),\n",
    "        batch_size=batchsize,\n",
    "        class_mode='binary',\n",
    "        shuffle=False)"
   ]
  },
  {
   "cell_type": "markdown",
   "metadata": {
    "id": "HUKesCSNgI_r"
   },
   "source": [
    "Training our top layers"
   ]
  },
  {
   "cell_type": "code",
   "execution_count": 19,
   "metadata": {
    "colab": {
     "base_uri": "https://localhost:8080/"
    },
    "executionInfo": {
     "elapsed": 366071,
     "status": "ok",
     "timestamp": 1662918540655,
     "user": {
      "displayName": "Bernardin LIGAN",
      "userId": "05699251141962295950"
     },
     "user_tz": -60
    },
    "id": "60p_VqyAgDFb",
    "outputId": "c9bfa8d6-2ec0-4e79-b2c4-df4cb51f2b58"
   },
   "outputs": [
    {
     "name": "stdout",
     "output_type": "stream",
     "text": [
      "Epoch 1/10\n",
      "57/57 [==============================] - ETA: 0s - loss: 0.3333 - accuracy: 0.8529\n",
      "Epoch 1: val_loss improved from inf to 0.25953, saving model to carORnot_vgg19.h5\n",
      "57/57 [==============================] - 35s 597ms/step - loss: 0.3333 - accuracy: 0.8529 - val_loss: 0.2595 - val_accuracy: 0.8862\n",
      "Epoch 2/10\n",
      "57/57 [==============================] - ETA: 0s - loss: 0.3223 - accuracy: 0.8540\n",
      "Epoch 2: val_loss improved from 0.25953 to 0.24583, saving model to carORnot_vgg19.h5\n",
      "57/57 [==============================] - 34s 595ms/step - loss: 0.3223 - accuracy: 0.8540 - val_loss: 0.2458 - val_accuracy: 0.9040\n",
      "Epoch 3/10\n",
      "57/57 [==============================] - ETA: 0s - loss: 0.2892 - accuracy: 0.8722\n",
      "Epoch 3: val_loss improved from 0.24583 to 0.22113, saving model to carORnot_vgg19.h5\n",
      "57/57 [==============================] - 34s 591ms/step - loss: 0.2892 - accuracy: 0.8722 - val_loss: 0.2211 - val_accuracy: 0.9152\n",
      "Epoch 4/10\n",
      "57/57 [==============================] - ETA: 0s - loss: 0.3135 - accuracy: 0.8628\n",
      "Epoch 4: val_loss improved from 0.22113 to 0.18090, saving model to carORnot_vgg19.h5\n",
      "57/57 [==============================] - 34s 596ms/step - loss: 0.3135 - accuracy: 0.8628 - val_loss: 0.1809 - val_accuracy: 0.9286\n",
      "Epoch 5/10\n",
      "57/57 [==============================] - ETA: 0s - loss: 0.2758 - accuracy: 0.8761\n",
      "Epoch 5: val_loss did not improve from 0.18090\n",
      "57/57 [==============================] - 33s 584ms/step - loss: 0.2758 - accuracy: 0.8761 - val_loss: 0.3153 - val_accuracy: 0.8772\n",
      "Epoch 6/10\n",
      "57/57 [==============================] - ETA: 0s - loss: 0.2757 - accuracy: 0.8767\n",
      "Epoch 6: val_loss did not improve from 0.18090\n",
      "57/57 [==============================] - 33s 582ms/step - loss: 0.2757 - accuracy: 0.8767 - val_loss: 0.2480 - val_accuracy: 0.8973\n",
      "Epoch 7/10\n",
      "57/57 [==============================] - ETA: 0s - loss: 0.2828 - accuracy: 0.8855\n",
      "Epoch 7: val_loss did not improve from 0.18090\n",
      "57/57 [==============================] - 33s 575ms/step - loss: 0.2828 - accuracy: 0.8855 - val_loss: 0.2790 - val_accuracy: 0.8817\n",
      "Epoch 8/10\n",
      "57/57 [==============================] - ETA: 0s - loss: 0.2733 - accuracy: 0.8822\n",
      "Epoch 8: val_loss did not improve from 0.18090\n",
      "57/57 [==============================] - 33s 583ms/step - loss: 0.2733 - accuracy: 0.8822 - val_loss: 0.2175 - val_accuracy: 0.9196\n",
      "Epoch 9/10\n",
      "57/57 [==============================] - ETA: 0s - loss: 0.2625 - accuracy: 0.8850\n",
      "Epoch 9: val_loss did not improve from 0.18090\n",
      "57/57 [==============================] - 33s 574ms/step - loss: 0.2625 - accuracy: 0.8850 - val_loss: 0.2238 - val_accuracy: 0.9152\n",
      "Epoch 10/10\n",
      "57/57 [==============================] - ETA: 0s - loss: 0.2725 - accuracy: 0.8866\n",
      "Epoch 10: val_loss did not improve from 0.18090\n",
      "57/57 [==============================] - 33s 578ms/step - loss: 0.2725 - accuracy: 0.8866 - val_loss: 0.2021 - val_accuracy: 0.9196\n"
     ]
    }
   ],
   "source": [
    "from tensorflow.keras.optimizers import SGD\n",
    "from tensorflow.keras.callbacks import ModelCheckpoint, EarlyStopping\n",
    "                   \n",
    "checkpoint = ModelCheckpoint(\"carORnot_vgg19.h5\", \n",
    "                             monitor=\"val_loss\",\n",
    "                             mode=\"min\",\n",
    "                             save_best_only = True,\n",
    "                             verbose=1)\n",
    "\n",
    "# earlystop = EarlyStopping(monitor = 'val_loss', \n",
    "#                           min_delta = 0, \n",
    "#                           patience = 3,\n",
    "#                           verbose = 1,\n",
    "#                           restore_best_weights = True)\n",
    "\n",
    "#we put our call backs into a callback list\n",
    "# callbacks = [earlystop, checkpoint]\n",
    "\n",
    "callbacks = [checkpoint]\n",
    "\n",
    "# Note we use a very small learning rate \n",
    "model.compile(loss = 'binary_crossentropy',\n",
    "              optimizer = 'adam',\n",
    "              metrics = ['accuracy'])\n",
    "\n",
    "nb_train_samples = 1840\n",
    "nb_validation_samples = 460\n",
    "epochs = 10\n",
    "batch_size = 32\n",
    "\n",
    "history = model.fit(\n",
    "    train_generator,\n",
    "    steps_per_epoch = nb_train_samples // batch_size,\n",
    "    epochs = epochs,\n",
    "    callbacks = callbacks,\n",
    "    validation_data = validation_generator,\n",
    "    validation_steps = nb_validation_samples // batch_size)\n",
    "\n",
    "#model.save(\"FRS_vgg.h5\")"
   ]
  },
  {
   "cell_type": "markdown",
   "metadata": {
    "id": "HTHDueabkSf5"
   },
   "source": [
    "Ploting our Charts"
   ]
  },
  {
   "cell_type": "code",
   "execution_count": 20,
   "metadata": {
    "colab": {
     "base_uri": "https://localhost:8080/"
    },
    "executionInfo": {
     "elapsed": 684,
     "status": "ok",
     "timestamp": 1662918878044,
     "user": {
      "displayName": "Bernardin LIGAN",
      "userId": "05699251141962295950"
     },
     "user_tz": -60
    },
    "id": "Bf6oyaJ7DCTe",
    "outputId": "e3100105-107e-4e2d-a4b1-0ebf46c1c414"
   },
   "outputs": [
    {
     "name": "stdout",
     "output_type": "stream",
     "text": [
      "--2022-09-11 17:54:37--  https://raw.githubusercontent.com/LiganiumInc/Helper-Functions/master/helper_functions.py\n",
      "Resolving raw.githubusercontent.com (raw.githubusercontent.com)... 185.199.108.133, 185.199.109.133, 185.199.110.133, ...\n",
      "Connecting to raw.githubusercontent.com (raw.githubusercontent.com)|185.199.108.133|:443... connected.\n",
      "HTTP request sent, awaiting response... 200 OK\n",
      "Length: 10246 (10K) [text/plain]\n",
      "Saving to: ‘helper_functions.py.1’\n",
      "\n",
      "helper_functions.py 100%[===================>]  10.01K  --.-KB/s    in 0s      \n",
      "\n",
      "2022-09-11 17:54:37 (41.2 MB/s) - ‘helper_functions.py.1’ saved [10246/10246]\n",
      "\n"
     ]
    }
   ],
   "source": [
    "! wget https://raw.githubusercontent.com/LiganiumInc/Helper-Functions/master/helper_functions.py"
   ]
  },
  {
   "cell_type": "code",
   "execution_count": 21,
   "metadata": {
    "executionInfo": {
     "elapsed": 4,
     "status": "ok",
     "timestamp": 1662918878045,
     "user": {
      "displayName": "Bernardin LIGAN",
      "userId": "05699251141962295950"
     },
     "user_tz": -60
    },
    "id": "2haPWzrIDhiF"
   },
   "outputs": [],
   "source": [
    "from helper_functions import make_confusion_matrix, plot_loss_curves, calculate_results"
   ]
  },
  {
   "cell_type": "code",
   "execution_count": 22,
   "metadata": {
    "colab": {
     "base_uri": "https://localhost:8080/",
     "height": 573
    },
    "executionInfo": {
     "elapsed": 535,
     "status": "ok",
     "timestamp": 1662918879014,
     "user": {
      "displayName": "Bernardin LIGAN",
      "userId": "05699251141962295950"
     },
     "user_tz": -60
    },
    "id": "NzUssRpYnx9v",
    "outputId": "6b030dea-7966-4566-af0e-403c6a063356"
   },
   "outputs": [
    {
     "data": {
      "image/png": "[encoded data removed]",
      "text/plain": [
       "<Figure size 432x288 with 1 Axes>"
      ]
     },
     "metadata": {
      "needs_background": "light"
     },
     "output_type": "display_data"
    },
    {
     "data": {
      "image/png": "[encoded data removed]",
      "text/plain": [
       "<Figure size 432x288 with 1 Axes>"
      ]
     },
     "metadata": {
      "needs_background": "light"
     },
     "output_type": "display_data"
    }
   ],
   "source": [
    "plot_loss_curves(history)"
   ]
  },
  {
   "cell_type": "markdown",
   "metadata": {
    "id": "AaVejqQxmAZu"
   },
   "source": [
    "Display Classification Report"
   ]
  },
  {
   "cell_type": "code",
   "execution_count": 23,
   "metadata": {
    "executionInfo": {
     "elapsed": 6,
     "status": "ok",
     "timestamp": 1662918879430,
     "user": {
      "displayName": "Bernardin LIGAN",
      "userId": "05699251141962295950"
     },
     "user_tz": -60
    },
    "id": "I7XmAT2grDS0"
   },
   "outputs": [],
   "source": [
    "import numpy as np"
   ]
  },
  {
   "cell_type": "code",
   "execution_count": 24,
   "metadata": {
    "colab": {
     "base_uri": "https://localhost:8080/",
     "height": 398
    },
    "executionInfo": {
     "elapsed": 364,
     "status": "error",
     "timestamp": 1662918879789,
     "user": {
      "displayName": "Bernardin LIGAN",
      "userId": "05699251141962295950"
     },
     "user_tz": -60
    },
    "id": "bADBxSWHkp8v",
    "outputId": "ef269edd-1ab5-429b-a26e-aa2026186bdf"
   },
   "outputs": [
    {
     "name": "stdout",
     "output_type": "stream",
     "text": [
      "Found 460 images belonging to 2 classes.\n"
     ]
    },
    {
     "ename": "OSError",
     "evalue": "ignored",
     "output_type": "error",
     "traceback": [
      "\u001b[0;31m---------------------------------------------------------------------------\u001b[0m",
      "\u001b[0;31mOSError\u001b[0m                                   Traceback (most recent call last)",
      "\u001b[0;32m<ipython-input-24-6f48e95732d2>\u001b[0m in \u001b[0;36m<module>\u001b[0;34m\u001b[0m\n\u001b[1;32m     10\u001b[0m     shuffle = False)\n\u001b[1;32m     11\u001b[0m \u001b[0;34m\u001b[0m\u001b[0m\n\u001b[0;32m---> 12\u001b[0;31m \u001b[0mbest_model\u001b[0m \u001b[0;34m=\u001b[0m \u001b[0mload_model\u001b[0m\u001b[0;34m(\u001b[0m\u001b[0;34m'carORnot_vgg'\u001b[0m\u001b[0;34m)\u001b[0m\u001b[0;34m\u001b[0m\u001b[0;34m\u001b[0m\u001b[0m\n\u001b[0m\u001b[1;32m     13\u001b[0m \u001b[0;34m\u001b[0m\u001b[0m\n",
      "\u001b[0;32m/usr/local/lib/python3.7/dist-packages/keras/utils/traceback_utils.py\u001b[0m in \u001b[0;36merror_handler\u001b[0;34m(*args, **kwargs)\u001b[0m\n\u001b[1;32m     65\u001b[0m     \u001b[0;32mexcept\u001b[0m \u001b[0mException\u001b[0m \u001b[0;32mas\u001b[0m \u001b[0me\u001b[0m\u001b[0;34m:\u001b[0m  \u001b[0;31m# pylint: disable=broad-except\u001b[0m\u001b[0;34m\u001b[0m\u001b[0;34m\u001b[0m\u001b[0m\n\u001b[1;32m     66\u001b[0m       \u001b[0mfiltered_tb\u001b[0m \u001b[0;34m=\u001b[0m \u001b[0m_process_traceback_frames\u001b[0m\u001b[0;34m(\u001b[0m\u001b[0me\u001b[0m\u001b[0;34m.\u001b[0m\u001b[0m__traceback__\u001b[0m\u001b[0;34m)\u001b[0m\u001b[0;34m\u001b[0m\u001b[0;34m\u001b[0m\u001b[0m\n\u001b[0;32m---> 67\u001b[0;31m       \u001b[0;32mraise\u001b[0m \u001b[0me\u001b[0m\u001b[0;34m.\u001b[0m\u001b[0mwith_traceback\u001b[0m\u001b[0;34m(\u001b[0m\u001b[0mfiltered_tb\u001b[0m\u001b[0;34m)\u001b[0m \u001b[0;32mfrom\u001b[0m \u001b[0;32mNone\u001b[0m\u001b[0;34m\u001b[0m\u001b[0;34m\u001b[0m\u001b[0m\n\u001b[0m\u001b[1;32m     68\u001b[0m     \u001b[0;32mfinally\u001b[0m\u001b[0;34m:\u001b[0m\u001b[0;34m\u001b[0m\u001b[0;34m\u001b[0m\u001b[0m\n\u001b[1;32m     69\u001b[0m       \u001b[0;32mdel\u001b[0m \u001b[0mfiltered_tb\u001b[0m\u001b[0;34m\u001b[0m\u001b[0;34m\u001b[0m\u001b[0m\n",
      "\u001b[0;32m/usr/local/lib/python3.7/dist-packages/keras/saving/save.py\u001b[0m in \u001b[0;36mload_model\u001b[0;34m(filepath, custom_objects, compile, options)\u001b[0m\n\u001b[1;32m    202\u001b[0m         \u001b[0;32mif\u001b[0m \u001b[0misinstance\u001b[0m\u001b[0;34m(\u001b[0m\u001b[0mfilepath_str\u001b[0m\u001b[0;34m,\u001b[0m \u001b[0mstr\u001b[0m\u001b[0;34m)\u001b[0m\u001b[0;34m:\u001b[0m\u001b[0;34m\u001b[0m\u001b[0;34m\u001b[0m\u001b[0m\n\u001b[1;32m    203\u001b[0m           \u001b[0;32mif\u001b[0m \u001b[0;32mnot\u001b[0m \u001b[0mtf\u001b[0m\u001b[0;34m.\u001b[0m\u001b[0mio\u001b[0m\u001b[0;34m.\u001b[0m\u001b[0mgfile\u001b[0m\u001b[0;34m.\u001b[0m\u001b[0mexists\u001b[0m\u001b[0;34m(\u001b[0m\u001b[0mfilepath_str\u001b[0m\u001b[0;34m)\u001b[0m\u001b[0;34m:\u001b[0m\u001b[0;34m\u001b[0m\u001b[0;34m\u001b[0m\u001b[0m\n\u001b[0;32m--> 204\u001b[0;31m             \u001b[0;32mraise\u001b[0m \u001b[0mIOError\u001b[0m\u001b[0;34m(\u001b[0m\u001b[0;34mf'No file or directory found at {filepath_str}'\u001b[0m\u001b[0;34m)\u001b[0m\u001b[0;34m\u001b[0m\u001b[0;34m\u001b[0m\u001b[0m\n\u001b[0m\u001b[1;32m    205\u001b[0m \u001b[0;34m\u001b[0m\u001b[0m\n\u001b[1;32m    206\u001b[0m           \u001b[0;32mif\u001b[0m \u001b[0mtf\u001b[0m\u001b[0;34m.\u001b[0m\u001b[0mio\u001b[0m\u001b[0;34m.\u001b[0m\u001b[0mgfile\u001b[0m\u001b[0;34m.\u001b[0m\u001b[0misdir\u001b[0m\u001b[0;34m(\u001b[0m\u001b[0mfilepath_str\u001b[0m\u001b[0;34m)\u001b[0m\u001b[0;34m:\u001b[0m\u001b[0;34m\u001b[0m\u001b[0;34m\u001b[0m\u001b[0m\n",
      "\u001b[0;31mOSError\u001b[0m: No file or directory found at carORnot_vgg"
     ]
    }
   ],
   "source": [
    "from sklearn.metrics import classification_report,confusion_matrix\n",
    "from tensorflow.keras.models import load_model\n",
    "\n",
    "\n",
    "# on crée un nouveau generateur  sur les données de test\n",
    "test_generator1 = validation_datagen.flow_from_directory(\n",
    "    validation_data_dir,\n",
    "    target_size = (224,224),\n",
    "    class_mode = \"binary\",\n",
    "    shuffle = False)\n",
    "\n",
    "best_model = load_model('damageORnot_vgg19.h5')\n",
    "\n"
   ]
  },
  {
   "cell_type": "code",
   "execution_count": 25,
   "metadata": {
    "colab": {
     "base_uri": "https://localhost:8080/"
    },
    "executionInfo": {
     "elapsed": 4194,
     "status": "ok",
     "timestamp": 1662918883977,
     "user": {
      "displayName": "Bernardin LIGAN",
      "userId": "05699251141962295950"
     },
     "user_tz": -60
    },
    "id": "pNFqig41mWsz",
    "outputId": "10d873c8-3999-4b74-fd00-51ffa0d50d3e"
   },
   "outputs": [
    {
     "name": "stdout",
     "output_type": "stream",
     "text": [
      "              precision    recall  f1-score   support\n",
      "\n",
      "           0       0.92      0.92      0.92       230\n",
      "           1       0.92      0.92      0.92       230\n",
      "\n",
      "    accuracy                           0.92       460\n",
      "   macro avg       0.92      0.92      0.92       460\n",
      "weighted avg       0.92      0.92      0.92       460\n",
      "\n"
     ]
    }
   ],
   "source": [
    "y_pred_proba = best_model.predict(test_generator1)\n",
    "#print(y_pred_proba)\n",
    "\n",
    "y_pred_class = [1 if i > .5 else 0 for i in y_pred_proba ]\n",
    "#print(y_pred)\n",
    "y_true = test_generator1.classes\n",
    "#print(y_true)\n",
    "print(classification_report(y_true, y_pred_class))"
   ]
  },
  {
   "cell_type": "markdown",
   "metadata": {
    "id": "14eQynfb6iZ-"
   },
   "source": [
    "Display Confusion Matrix"
   ]
  },
  {
   "cell_type": "code",
   "execution_count": 26,
   "metadata": {
    "colab": {
     "base_uri": "https://localhost:8080/",
     "height": 574
    },
    "executionInfo": {
     "elapsed": 558,
     "status": "ok",
     "timestamp": 1662918884530,
     "user": {
      "displayName": "Bernardin LIGAN",
      "userId": "05699251141962295950"
     },
     "user_tz": -60
    },
    "id": "joP5GwuuvMP_",
    "outputId": "aa531a6b-f318-4630-9fd2-0b1c2482d4b9"
   },
   "outputs": [
    {
     "data": {
      "image/png": "[encoded data removed]",
      "text/plain": [
       "<Figure size 720x720 with 2 Axes>"
      ]
     },
     "metadata": {
      "needs_background": "light"
     },
     "output_type": "display_data"
    }
   ],
   "source": [
    "make_confusion_matrix(y_true,y_pred_class,classes = ['damaged','not_damaged'])"
   ]
  },
  {
   "cell_type": "code",
   "execution_count": 27,
   "metadata": {
    "colab": {
     "base_uri": "https://localhost:8080/"
    },
    "executionInfo": {
     "elapsed": 12,
     "status": "ok",
     "timestamp": 1662918884532,
     "user": {
      "displayName": "Bernardin LIGAN",
      "userId": "05699251141962295950"
     },
     "user_tz": -60
    },
    "id": "hyz8JPa7vMNO",
    "outputId": "8740bf9a-559e-4a64-b839-34fad3b86ba3"
   },
   "outputs": [
    {
     "data": {
      "text/plain": [
       "{'accuracy': 91.73913043478261,\n",
       " 'precision': 0.9173913043478261,\n",
       " 'recall': 0.9173913043478261,\n",
       " 'f1': 0.9173913043478261}"
      ]
     },
     "execution_count": 27,
     "metadata": {},
     "output_type": "execute_result"
    }
   ],
   "source": [
    "calculate_results(y_true,y_pred_class)"
   ]
  },
  {
   "cell_type": "code",
   "execution_count": 28,
   "metadata": {
    "executionInfo": {
     "elapsed": 9,
     "status": "ok",
     "timestamp": 1662918884533,
     "user": {
      "displayName": "Bernardin LIGAN",
      "userId": "05699251141962295950"
     },
     "user_tz": -60
    },
    "id": "SYaH5z4x9rEH"
   },
   "outputs": [],
   "source": [
    "#model.save('static/FRS_vgg.h5')"
   ]
  },
  {
   "cell_type": "code",
   "execution_count": null,
   "metadata": {
    "id": "2Teho2CLsHDd"
   },
   "outputs": [],
   "source": []
  }
 ],
 "metadata": {
  "accelerator": "GPU",
  "colab": {
   "provenance": []
  },
  "gpuClass": "standard",
  "kernelspec": {
   "display_name": "Python 3 (ipykernel)",
   "language": "python",
   "name": "python3"
  },
  "language_info": {
   "codemirror_mode": {
    "name": "ipython",
    "version": 3
   },
   "file_extension": ".py",
   "mimetype": "text/x-python",
   "name": "python",
   "nbconvert_exporter": "python",
   "pygments_lexer": "ipython3",
   "version": "3.9.12"
  }
 },
 "nbformat": 4,
 "nbformat_minor": 1
}
