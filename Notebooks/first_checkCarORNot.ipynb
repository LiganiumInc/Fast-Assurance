{
 "cells": [
  {
   "cell_type": "code",
   "execution_count": 1,
   "metadata": {
    "colab": {
     "base_uri": "https://localhost:8080/"
    },
    "executionInfo": {
     "elapsed": 22014,
     "status": "ok",
     "timestamp": 1641150953569,
     "user": {
      "displayName": "Bernardin Ligan",
      "photoUrl": "https://lh3.googleusercontent.com/a/default-user=s64",
      "userId": "14612614719297886760"
     },
     "user_tz": -60
    },
    "id": "uKBjGmTA7WjK",
    "outputId": "55cdbbb1-d5fc-4486-8b8c-5c86af880897"
   },
   "outputs": [
    {
     "name": "stdout",
     "output_type": "stream",
     "text": [
      "Mounted at /content/drive\n"
     ]
    }
   ],
   "source": [
    "import os\n",
    "\n",
    "from google.colab import drive\n",
    "drive.mount('/content/drive')"
   ]
  },
  {
   "cell_type": "code",
   "execution_count": 2,
   "metadata": {
    "executionInfo": {
     "elapsed": 3161,
     "status": "ok",
     "timestamp": 1641150961629,
     "user": {
      "displayName": "Bernardin Ligan",
      "photoUrl": "https://lh3.googleusercontent.com/a/default-user=s64",
      "userId": "14612614719297886760"
     },
     "user_tz": -60
    },
    "id": "-HSGJSr_LEmX"
   },
   "outputs": [],
   "source": [
    "# Import Libraries\n",
    "import numpy as np\n",
    "import json\n",
    "\n",
    "from keras.applications.vgg19 import VGG19\n",
    "from keras.preprocessing.image import img_to_array, load_img\n",
    "from keras.applications.imagenet_utils import preprocess_input"
   ]
  },
  {
   "cell_type": "code",
   "execution_count": 4,
   "metadata": {
    "colab": {
     "base_uri": "https://localhost:8080/"
    },
    "executionInfo": {
     "elapsed": 8288,
     "status": "ok",
     "timestamp": 1641150995129,
     "user": {
      "displayName": "Bernardin Ligan",
      "photoUrl": "https://lh3.googleusercontent.com/a/default-user=s64",
      "userId": "14612614719297886760"
     },
     "user_tz": -60
    },
    "id": "dwtgbaL8LadZ",
    "outputId": "36ff62fb-23e1-4ce7-8913-dc7f1c05205d"
   },
   "outputs": [
    {
     "name": "stdout",
     "output_type": "stream",
     "text": [
      "Downloading data from https://storage.googleapis.com/tensorflow/keras-applications/vgg19/vgg19_weights_tf_dim_ordering_tf_kernels.h5\n",
      "574717952/574710816 [==============================] - 4s 0us/step\n",
      "574726144/574710816 [==============================] - 4s 0us/step\n"
     ]
    }
   ],
   "source": [
    "#Upload VGG16\n",
    "vgg19 = VGG19(weights='imagenet')"
   ]
  },
  {
   "cell_type": "code",
   "execution_count": 5,
   "metadata": {
    "colab": {
     "base_uri": "https://localhost:8080/"
    },
    "executionInfo": {
     "elapsed": 4267,
     "status": "ok",
     "timestamp": 1641151070730,
     "user": {
      "displayName": "Bernardin Ligan",
      "photoUrl": "https://lh3.googleusercontent.com/a/default-user=s64",
      "userId": "14612614719297886760"
     },
     "user_tz": -60
    },
    "id": "6FyCn19eLdy_",
    "outputId": "7de24513-84aa-40c7-b3bb-343111cac789"
   },
   "outputs": [
    {
     "name": "stdout",
     "output_type": "stream",
     "text": [
      "WARNING:tensorflow:Compiled the loaded model, but the compiled metrics have yet to be built. `model.compile_metrics` will be empty until you train or evaluate the model.\n"
     ]
    }
   ],
   "source": [
    "vgg19.save('/content/drive/MyDrive/Car Damage Toolkit New/static/vgg19.h5')"
   ]
  },
  {
   "cell_type": "code",
   "execution_count": 7,
   "metadata": {
    "colab": {
     "base_uri": "https://localhost:8080/"
    },
    "executionInfo": {
     "elapsed": 5712,
     "status": "ok",
     "timestamp": 1641151138455,
     "user": {
      "displayName": "Bernardin Ligan",
      "photoUrl": "https://lh3.googleusercontent.com/a/default-user=s64",
      "userId": "14612614719297886760"
     },
     "user_tz": -60
    },
    "id": "emO57lKWLmXK",
    "outputId": "91071642-53e1-4895-a863-443baf4bed73"
   },
   "outputs": [
    {
     "name": "stdout",
     "output_type": "stream",
     "text": [
      "WARNING:tensorflow:No training configuration found in the save file, so the model was *not* compiled. Compile it manually.\n"
     ]
    }
   ],
   "source": [
    "import tensorflow as tf\n",
    "vgg19 = tf.keras.models.load_model('/content/drive/MyDrive/Car Damage Toolkit New/static/vgg19.h5')"
   ]
  },
  {
   "cell_type": "code",
   "execution_count": 8,
   "metadata": {
    "executionInfo": {
     "elapsed": 249,
     "status": "ok",
     "timestamp": 1641151162053,
     "user": {
      "displayName": "Bernardin Ligan",
      "photoUrl": "https://lh3.googleusercontent.com/a/default-user=s64",
      "userId": "14612614719297886760"
     },
     "user_tz": -60
    },
    "id": "eaM6uBpxLmtO"
   },
   "outputs": [],
   "source": [
    "def prepare_image(img_path):\n",
    "    img = load_img(img_path, target_size=(224, 224))\n",
    "    x = img_to_array(img)\n",
    "    x = np.expand_dims(x, axis=0)\n",
    "    x = preprocess_input(x)\n",
    "    return x"
   ]
  },
  {
   "cell_type": "code",
   "execution_count": 9,
   "metadata": {
    "executionInfo": {
     "elapsed": 675,
     "status": "ok",
     "timestamp": 1641151208949,
     "user": {
      "displayName": "Bernardin Ligan",
      "photoUrl": "https://lh3.googleusercontent.com/a/default-user=s64",
      "userId": "14612614719297886760"
     },
     "user_tz": -60
    },
    "id": "52y8_N84Lmv2"
   },
   "outputs": [],
   "source": [
    "y = prepare_image('/content/drive/MyDrive/Car Damage Toolkit New/DataSets/car_damage_dataset/01-whole/0001.jpg')"
   ]
  },
  {
   "cell_type": "code",
   "execution_count": 10,
   "metadata": {
    "executionInfo": {
     "elapsed": 1627,
     "status": "ok",
     "timestamp": 1641151218044,
     "user": {
      "displayName": "Bernardin Ligan",
      "photoUrl": "https://lh3.googleusercontent.com/a/default-user=s64",
      "userId": "14612614719297886760"
     },
     "user_tz": -60
    },
    "id": "_FsvZyYhLmye"
   },
   "outputs": [],
   "source": [
    "preds = vgg19.predict(y)"
   ]
  },
  {
   "cell_type": "code",
   "execution_count": 11,
   "metadata": {
    "colab": {
     "base_uri": "https://localhost:8080/"
    },
    "executionInfo": {
     "elapsed": 307,
     "status": "ok",
     "timestamp": 1641151221422,
     "user": {
      "displayName": "Bernardin Ligan",
      "photoUrl": "https://lh3.googleusercontent.com/a/default-user=s64",
      "userId": "14612614719297886760"
     },
     "user_tz": -60
    },
    "id": "lQ1S_t9dLm1W",
    "outputId": "c7a3f1f6-3bca-47f8-f124-ecceebfb30b3"
   },
   "outputs": [
    {
     "data": {
      "text/plain": [
       "(1, 1000)"
      ]
     },
     "execution_count": 11,
     "metadata": {},
     "output_type": "execute_result"
    }
   ],
   "source": [
    "preds.shape"
   ]
  },
  {
   "cell_type": "code",
   "execution_count": 12,
   "metadata": {
    "colab": {
     "base_uri": "https://localhost:8080/"
    },
    "executionInfo": {
     "elapsed": 296,
     "status": "ok",
     "timestamp": 1641151222969,
     "user": {
      "displayName": "Bernardin Ligan",
      "photoUrl": "https://lh3.googleusercontent.com/a/default-user=s64",
      "userId": "14612614719297886760"
     },
     "user_tz": -60
    },
    "id": "mtR5nNCxLm5l",
    "outputId": "30183f22-aa28-402e-bfa5-84daa3f16e31"
   },
   "outputs": [
    {
     "data": {
      "text/plain": [
       "array([[9.60437418e-09, 2.02764205e-08, 6.06965358e-08, 5.22825836e-08,\n",
       "        9.95387524e-08, 9.13023541e-08, 4.30368381e-08, 1.65854331e-07,\n",
       "        7.59401644e-08, 4.57371101e-07, 1.45589185e-08, 8.42812842e-09,\n",
       "        6.68628841e-09, 1.58956386e-08, 1.67410397e-09, 1.56015432e-08,\n",
       "        1.99523971e-08, 1.94104643e-09, 1.75130719e-08, 3.52410501e-09,\n",
       "        6.39085496e-09, 9.75606707e-09, 2.49870400e-08, 6.00761965e-08,\n",
       "        3.91801677e-07, 5.26384213e-07, 3.61024121e-07, 2.81145880e-08,\n",
       "        1.62951412e-08, 1.03375140e-08, 1.29209923e-08, 8.97194874e-10,\n",
       "        1.22715589e-08, 5.66497079e-07, 7.93103709e-07, 8.90741987e-08,\n",
       "        3.96563792e-07, 3.00405425e-08, 6.81547476e-08, 1.05838666e-07,\n",
       "        1.68581611e-08, 1.44626227e-07, 2.99494651e-08, 2.04485140e-08,\n",
       "        8.32810798e-08, 6.87590727e-07, 1.30309301e-08, 4.12052259e-08,\n",
       "        1.18734670e-06, 1.59563296e-08, 4.18948467e-08, 4.47414408e-07,\n",
       "        4.38126548e-08, 8.44797725e-08, 2.56060332e-07, 5.61485836e-09,\n",
       "        4.29781899e-08, 2.01880894e-08, 9.63699662e-08, 1.20292265e-08,\n",
       "        2.88344268e-07, 1.14822058e-07, 1.08670349e-06, 3.91346973e-08,\n",
       "        1.67639893e-08, 3.94775583e-07, 2.42778526e-07, 1.29197417e-07,\n",
       "        1.83618681e-07, 1.41913388e-08, 2.87140711e-09, 2.11628297e-08,\n",
       "        7.76857778e-09, 1.34189317e-08, 5.83125059e-09, 5.90888725e-08,\n",
       "        7.85766296e-09, 2.87140267e-08, 5.95697802e-09, 9.20432264e-09,\n",
       "        4.30338041e-08, 5.78930459e-09, 2.55591068e-08, 1.66289631e-08,\n",
       "        1.87393940e-08, 3.42733664e-08, 7.00115832e-09, 8.92501628e-09,\n",
       "        2.06386712e-08, 2.25992713e-09, 5.96872640e-09, 1.24176047e-09,\n",
       "        5.08703835e-09, 1.58047015e-08, 4.45928139e-09, 4.48940662e-09,\n",
       "        1.03774189e-08, 1.28030353e-09, 3.08030557e-09, 1.10501830e-08,\n",
       "        5.52057209e-08, 1.67471796e-06, 8.26156423e-08, 1.42028203e-08,\n",
       "        8.68666472e-09, 4.90461094e-09, 1.18429170e-07, 1.89016403e-09,\n",
       "        2.88049073e-09, 6.20518179e-08, 3.42782052e-08, 1.70982901e-07,\n",
       "        4.89413807e-08, 2.38474740e-07, 6.86206789e-08, 3.33810912e-09,\n",
       "        1.44466394e-08, 6.26373176e-09, 2.66746696e-08, 5.45111689e-08,\n",
       "        3.07805159e-08, 2.64943605e-08, 1.94630427e-08, 1.19693723e-07,\n",
       "        1.01632061e-07, 3.20132045e-08, 2.66656670e-08, 3.67537609e-08,\n",
       "        5.48598571e-08, 3.32043681e-09, 4.04212530e-09, 2.44628251e-09,\n",
       "        5.14332266e-09, 1.80406552e-08, 5.08544034e-08, 1.82288886e-08,\n",
       "        4.44159154e-09, 4.09323730e-09, 1.77572002e-08, 1.96531058e-08,\n",
       "        6.53297061e-09, 4.62557921e-08, 1.84549194e-08, 2.74613772e-08,\n",
       "        3.54246446e-08, 2.89879750e-07, 2.75736962e-08, 3.86914571e-08,\n",
       "        1.76378535e-07, 2.66394871e-08, 3.38566167e-07, 4.03678833e-08,\n",
       "        1.59969495e-08, 1.30011131e-08, 1.23797662e-07, 5.92385057e-08,\n",
       "        1.07895328e-08, 1.02546007e-08, 6.87747370e-09, 1.85987162e-07,\n",
       "        3.85316889e-06, 4.85574603e-08, 8.73806272e-09, 1.29321995e-06,\n",
       "        2.31264423e-07, 3.82787810e-08, 1.40984771e-08, 3.60369654e-08,\n",
       "        1.17257350e-07, 1.20671729e-07, 1.28743136e-06, 3.52349510e-08,\n",
       "        2.53570960e-07, 8.46412220e-08, 6.50649611e-07, 5.91047353e-07,\n",
       "        2.45777386e-07, 1.54465840e-06, 7.81929614e-08, 2.30448052e-07,\n",
       "        1.35047344e-07, 2.18048839e-07, 4.81975292e-07, 3.27055495e-05,\n",
       "        1.07622691e-06, 5.07697919e-08, 1.36736091e-07, 2.10375060e-08,\n",
       "        2.18084182e-07, 2.35157131e-07, 3.82449166e-08, 1.25259575e-07,\n",
       "        2.43514961e-07, 3.58602037e-08, 6.82901202e-07, 1.94316911e-07,\n",
       "        2.60048552e-07, 9.08105503e-05, 7.08747348e-06, 3.29459681e-07,\n",
       "        6.87354031e-07, 2.57976254e-08, 3.46326601e-06, 3.91671797e-08,\n",
       "        3.87040245e-07, 2.37808393e-07, 5.18060290e-07, 2.68095839e-08,\n",
       "        1.47958545e-07, 3.09741750e-07, 1.65928526e-07, 1.54667703e-07,\n",
       "        5.75837262e-08, 1.10442670e-07, 1.67413447e-07, 4.67763872e-09,\n",
       "        4.66195615e-08, 5.10964036e-08, 7.02413683e-09, 1.67964842e-07,\n",
       "        5.50271352e-07, 3.10340079e-06, 3.57364769e-08, 1.02198555e-06,\n",
       "        1.81932364e-06, 2.22579774e-06, 2.38546399e-05, 2.91269714e-07,\n",
       "        5.67018162e-07, 8.04694139e-07, 2.22275354e-08, 6.02283308e-08,\n",
       "        5.05487137e-08, 4.19554679e-04, 1.79951982e-07, 8.18519197e-07,\n",
       "        7.15985209e-08, 3.16562954e-08, 3.81398934e-07, 2.65481447e-07,\n",
       "        2.91725627e-07, 1.07682382e-07, 2.98337994e-07, 1.83657835e-06,\n",
       "        2.00034301e-05, 1.83793176e-07, 1.51306758e-05, 1.60857735e-06,\n",
       "        5.54741689e-07, 8.04936747e-07, 9.33941521e-07, 1.88055012e-07,\n",
       "        3.88595112e-07, 7.90206443e-08, 1.90022513e-06, 5.70381599e-06,\n",
       "        8.24012295e-06, 6.85899266e-08, 1.82289241e-08, 4.86072196e-08,\n",
       "        9.70170731e-07, 4.52319853e-07, 3.41326398e-07, 1.05206732e-08,\n",
       "        2.61339004e-08, 1.56053915e-07, 9.92580667e-08, 1.01032185e-06,\n",
       "        2.55020211e-07, 1.31901436e-06, 1.16068129e-07, 8.47787192e-08,\n",
       "        2.20664469e-06, 3.76980142e-06, 2.88965310e-07, 8.54885229e-07,\n",
       "        6.21550839e-07, 3.03913652e-07, 1.23571311e-07, 1.23286569e-07,\n",
       "        6.14289036e-07, 5.00546378e-07, 2.17677552e-07, 1.46718451e-08,\n",
       "        2.90370430e-08, 1.82751833e-07, 3.33436731e-07, 5.57904798e-07,\n",
       "        6.55368183e-07, 3.13874438e-07, 1.18264836e-07, 2.13779387e-07,\n",
       "        3.84319520e-07, 2.19091490e-07, 1.16823423e-06, 1.42434885e-06,\n",
       "        8.67109691e-07, 4.43273905e-07, 2.80693513e-07, 2.19082281e-07,\n",
       "        3.02684633e-09, 6.78435752e-09, 1.33618245e-08, 1.77571682e-08,\n",
       "        5.19890042e-09, 4.16377555e-09, 9.55835766e-09, 1.38423859e-08,\n",
       "        5.07110265e-09, 2.22212186e-08, 4.67676671e-08, 1.21995697e-07,\n",
       "        5.08512983e-08, 8.71513137e-08, 2.91172384e-08, 1.19452244e-08,\n",
       "        1.57189528e-09, 7.91109400e-09, 4.96302377e-08, 4.52873605e-09,\n",
       "        8.23072455e-09, 3.14074882e-08, 3.55144003e-09, 4.27055680e-09,\n",
       "        1.65109748e-09, 3.50440521e-09, 1.45804202e-09, 4.51871898e-07,\n",
       "        4.02785112e-08, 4.55342587e-07, 2.70278804e-07, 8.04033640e-09,\n",
       "        1.44180099e-08, 5.77990411e-09, 2.59160487e-07, 2.81988633e-07,\n",
       "        1.22251933e-07, 4.30071374e-08, 3.28658833e-09, 3.42792532e-08,\n",
       "        4.97017822e-07, 9.25790232e-07, 2.28479985e-06, 2.31643639e-07,\n",
       "        4.96246289e-09, 5.74359228e-06, 2.59657753e-07, 6.32994715e-06,\n",
       "        1.80672487e-07, 3.27345390e-07, 4.31919148e-07, 1.81741001e-07,\n",
       "        1.37794601e-07, 3.59999234e-07, 5.65420862e-07, 5.62272987e-07,\n",
       "        3.36138470e-07, 6.57004023e-07, 2.69566016e-07, 1.45915905e-07,\n",
       "        2.64001301e-08, 3.08623072e-07, 6.06753247e-07, 8.27026980e-09,\n",
       "        3.73756023e-07, 1.42327522e-07, 1.76198887e-06, 2.06950105e-07,\n",
       "        1.05304466e-07, 1.54523946e-07, 1.40700763e-07, 1.47974774e-07,\n",
       "        6.43664134e-06, 1.32395348e-06, 2.13388631e-08, 9.64253104e-08,\n",
       "        9.50327639e-09, 4.05238687e-08, 1.32598075e-07, 2.44167950e-07,\n",
       "        4.67903135e-07, 1.01898372e-07, 1.27025046e-07, 2.86373449e-08,\n",
       "        1.05434090e-07, 9.61953174e-06, 2.37918289e-06, 8.70448176e-08,\n",
       "        1.36619050e-07, 9.65948459e-08, 3.23795291e-07, 3.80523744e-07,\n",
       "        2.53144865e-08, 3.74234954e-09, 4.20382321e-07, 1.72151715e-06,\n",
       "        1.52542388e-08, 2.26198544e-08, 2.18091358e-08, 3.72129193e-07,\n",
       "        2.94327727e-08, 1.07583233e-07, 2.93878415e-08, 6.89575188e-07,\n",
       "        7.85332645e-07, 6.42335252e-08, 1.98484983e-07, 3.00923921e-02,\n",
       "        4.01239516e-03, 1.81335452e-06, 1.85440342e-06, 1.16891865e-08,\n",
       "        7.26033159e-06, 4.35810398e-06, 2.97984108e-08, 1.27618523e-06,\n",
       "        3.85222620e-07, 1.26332324e-07, 1.90912548e-08, 5.63541818e-08,\n",
       "        9.10671218e-08, 1.47125081e-06, 6.99921657e-07, 1.07656511e-07,\n",
       "        1.71650242e-06, 7.78258951e-08, 6.18145037e-08, 5.70748512e-07,\n",
       "        3.48525305e-06, 5.12909804e-09, 8.62707417e-09, 1.16227792e-08,\n",
       "        1.64088867e-08, 2.31563234e-07, 1.73028329e-08, 1.28032056e-07,\n",
       "        4.19020253e-05, 1.61012821e-07, 1.23063614e-07, 4.56797657e-08,\n",
       "        7.00820237e-08, 1.67220676e-07, 9.10202857e-07, 6.05830408e-09,\n",
       "        1.83844008e-07, 6.70410941e-07, 5.75847174e-08, 2.11158451e-07,\n",
       "        6.42487166e-08, 5.45530042e-07, 1.14074885e-06, 3.02663850e-09,\n",
       "        2.01524930e-09, 3.77144431e-08, 1.52422001e-06, 1.43705620e-07,\n",
       "        6.08972357e-07, 7.20137834e-08, 1.17922582e-07, 1.16081409e-07,\n",
       "        1.29547558e-07, 7.71089788e-08, 1.43188311e-06, 1.58582168e-07,\n",
       "        2.66183076e-08, 3.62791093e-06, 7.94632626e-08, 7.80083909e-08,\n",
       "        3.04790679e-04, 3.55256191e-07, 1.21535315e-08, 5.17388362e-05,\n",
       "        2.52114063e-07, 1.96003587e-08, 5.20283905e-09, 5.39509813e-07,\n",
       "        4.03749638e-08, 8.59535518e-08, 1.27848023e-06, 3.38430778e-04,\n",
       "        7.85514294e-06, 7.30528541e-07, 1.23317079e-06, 5.26769895e-07,\n",
       "        9.67595133e-06, 1.50039448e-08, 7.44681117e-09, 3.24246869e-08,\n",
       "        2.32168233e-07, 7.75723663e-07, 2.28798896e-07, 2.41026714e-06,\n",
       "        8.93748293e-08, 4.19915693e-08, 1.20496935e-07, 1.96272953e-08,\n",
       "        5.45048007e-09, 4.33706418e-07, 3.45517674e-06, 1.00202451e-08,\n",
       "        1.47859666e-07, 2.78268750e-08, 1.43757770e-08, 7.18132087e-09,\n",
       "        2.32649970e-08, 4.07340330e-08, 4.04106402e-08, 1.18772675e-07,\n",
       "        1.49798893e-07, 5.81507109e-08, 3.54541521e-06, 2.43080490e-06,\n",
       "        1.58325797e-08, 4.09751237e-08, 4.48632775e-08, 1.20359800e-07,\n",
       "        1.47445043e-08, 1.26126911e-02, 6.18543652e-08, 1.18631795e-06,\n",
       "        1.07863842e-08, 8.82578277e-09, 1.13808291e-07, 5.88223372e-07,\n",
       "        1.30898687e-08, 2.67185754e-07, 3.83699160e-07, 6.17284996e-08,\n",
       "        2.56916106e-08, 6.83011550e-08, 1.80077663e-07, 7.49702309e-08,\n",
       "        1.60038773e-08, 1.49444794e-08, 5.53234315e-07, 3.35024879e-08,\n",
       "        3.46946126e-06, 3.04429591e-06, 1.08742967e-07, 2.00339638e-08,\n",
       "        4.96876828e-06, 5.27802548e-08, 2.20010747e-08, 5.40712826e-08,\n",
       "        1.10161068e-07, 2.00322162e-07, 2.64094986e-08, 3.01055638e-06,\n",
       "        7.83227421e-08, 2.67699676e-07, 5.41464154e-08, 1.23177326e-08,\n",
       "        7.87353187e-08, 6.64644631e-07, 4.04865159e-06, 4.81462404e-02,\n",
       "        1.73171948e-08, 3.67582516e-06, 1.74495547e-08, 2.95951679e-07,\n",
       "        1.09226104e-08, 1.94618502e-03, 2.33382411e-06, 6.00258776e-09,\n",
       "        4.36078125e-08, 1.61543085e-06, 5.01223285e-09, 8.37369356e-08,\n",
       "        9.60633542e-07, 9.97274183e-03, 1.13230293e-07, 3.09005372e-05,\n",
       "        1.77204917e-08, 7.22432958e-07, 2.45526355e-08, 3.20345134e-05,\n",
       "        2.43507863e-08, 3.83341813e-07, 3.06213011e-08, 4.56792264e-07,\n",
       "        4.71753019e-08, 2.02781052e-06, 2.11478891e-07, 1.93183973e-06,\n",
       "        4.79339057e-09, 4.86165810e-08, 3.04274037e-02, 5.05024332e-07,\n",
       "        1.40423611e-08, 1.20874368e-08, 2.11528928e-07, 5.99418186e-08,\n",
       "        7.83227421e-08, 3.71359690e-08, 1.42968545e-07, 1.31582201e-04,\n",
       "        1.28685500e-07, 5.01064825e-08, 4.04231280e-08, 2.60430670e-06,\n",
       "        2.80683753e-06, 4.53460469e-09, 2.79272484e-07, 6.42722298e-05,\n",
       "        8.25221314e-09, 3.94267261e-07, 8.52037196e-09, 3.21160130e-08,\n",
       "        2.66396160e-06, 1.11692451e-01, 4.17705159e-09, 1.10148676e-07,\n",
       "        1.79038307e-06, 8.56022879e-08, 1.76426536e-08, 4.56700064e-08,\n",
       "        1.95766461e-07, 2.35390686e-07, 2.68199649e-08, 1.94750660e-09,\n",
       "        7.49672253e-08, 5.45364446e-06, 2.03294750e-08, 4.17496686e-08,\n",
       "        3.60831393e-07, 2.10544863e-06, 9.05889763e-08, 2.05731858e-03,\n",
       "        3.24885917e-07, 1.14698331e-08, 8.58872653e-08, 2.73941012e-08,\n",
       "        3.15701641e-06, 5.58551889e-08, 9.48217075e-06, 1.04569509e-07,\n",
       "        9.52105239e-08, 1.37008726e-06, 3.74089069e-07, 1.34531490e-07,\n",
       "        4.82445017e-08, 3.01908081e-08, 1.33838500e-06, 7.56986918e-09,\n",
       "        1.49476378e-07, 1.23572491e-07, 1.49607229e-06, 2.57729855e-08,\n",
       "        3.85897465e-08, 1.67277307e-07, 1.05087160e-07, 2.09277971e-07,\n",
       "        3.05412032e-05, 1.51956456e-07, 6.87884283e-04, 9.75958528e-07,\n",
       "        1.01436526e-04, 1.20408891e-04, 6.21220408e-08, 1.09416263e-08,\n",
       "        6.47075431e-05, 1.70021613e-05, 2.24657946e-08, 2.38403436e-06,\n",
       "        3.75942022e-07, 6.05631101e-07, 6.55574524e-07, 1.06228235e-08,\n",
       "        1.03428988e-06, 1.16625278e-08, 6.41721556e-07, 5.43058013e-06,\n",
       "        3.90271936e-07, 3.37658932e-08, 1.29834086e-06, 2.05603964e-03,\n",
       "        2.26869247e-07, 1.58333346e-08, 8.97291628e-08, 2.52607912e-09,\n",
       "        9.33220257e-09, 3.44031790e-08, 5.09928327e-07, 2.12942197e-08,\n",
       "        1.46509482e-09, 3.44126818e-07, 3.91874892e-07, 4.45889263e-08,\n",
       "        1.64276543e-07, 4.00237798e-09, 1.16426536e-05, 2.31016202e-07,\n",
       "        2.56551402e-07, 5.42699681e-08, 4.82446876e-06, 3.37885737e-08,\n",
       "        6.09116668e-08, 9.84457245e-08, 1.04948003e-06, 5.91616072e-08,\n",
       "        5.49506538e-08, 8.39973637e-08, 1.51485426e-06, 1.05908794e-06,\n",
       "        4.96389475e-06, 8.62164325e-06, 2.98384094e-07, 6.46774367e-07,\n",
       "        4.32434319e-07, 3.16911430e-09, 1.71985249e-07, 4.07523686e-08,\n",
       "        5.16153298e-09, 8.28095722e-07, 2.22693641e-09, 8.47754862e-08,\n",
       "        5.43281999e-07, 2.54292670e-03, 4.11739256e-06, 4.74105333e-09,\n",
       "        2.28387833e-08, 2.75500920e-08, 2.08052555e-07, 2.48657557e-08,\n",
       "        1.75446274e-07, 7.74087461e-09, 2.19319034e-08, 3.62505233e-07,\n",
       "        5.86949405e-08, 2.03374260e-08, 3.60718899e-04, 1.01809633e-06,\n",
       "        1.76275279e-07, 5.02306375e-06, 5.26165450e-03, 1.12080301e-07,\n",
       "        2.28921124e-07, 2.48259596e-07, 1.40017818e-07, 4.06082030e-08,\n",
       "        1.68500222e-07, 1.75480466e-08, 3.32532977e-07, 3.70452227e-07,\n",
       "        2.11086095e-04, 6.80600536e-08, 1.56737701e-06, 2.21551474e-07,\n",
       "        2.49748400e-08, 6.23451779e-09, 1.23861909e-07, 7.52293272e-05,\n",
       "        1.81021473e-08, 8.98690047e-08, 2.04276091e-07, 1.05474619e-07,\n",
       "        1.19115583e-07, 6.69328147e-05, 1.00030924e-07, 3.57458390e-07,\n",
       "        1.12002465e-06, 3.15339044e-08, 2.34177674e-06, 5.13123609e-07,\n",
       "        2.70151895e-06, 5.16850065e-08, 3.20444087e-07, 1.33453256e-07,\n",
       "        1.23796777e-08, 1.24380009e-07, 3.69180952e-08, 1.51867212e-07,\n",
       "        7.85897143e-08, 1.42222030e-08, 3.71714712e-08, 1.17769282e-07,\n",
       "        1.12762493e-07, 4.20856239e-08, 6.52990025e-07, 8.81973072e-04,\n",
       "        6.36930721e-08, 8.60369198e-07, 9.59088425e-07, 9.02641304e-08,\n",
       "        6.58963941e-08, 2.41546996e-08, 3.16142155e-06, 9.80843708e-08,\n",
       "        1.12044283e-07, 3.27942011e-08, 1.41712428e-08, 2.81854363e-06,\n",
       "        1.40922621e-05, 1.52412909e-07, 2.56391335e-08, 1.92255288e-06,\n",
       "        3.93993645e-07, 4.65151970e-08, 8.14215753e-08, 3.49659217e-06,\n",
       "        2.16665185e-07, 7.29089535e-08, 2.80219456e-06, 6.61418959e-02,\n",
       "        1.57197402e-08, 1.33206697e-07, 4.87316107e-08, 5.67040331e-07,\n",
       "        1.11275709e-08, 1.02392974e-08, 5.98156191e-08, 1.86629109e-07,\n",
       "        1.04607966e-06, 5.89655569e-09, 2.66735287e-06, 2.53631551e-08,\n",
       "        4.93417929e-08, 2.07679363e-06, 6.35813137e-07, 3.00075158e-07,\n",
       "        9.82568736e-07, 1.92610582e-06, 2.40844173e-07, 7.36178007e-09,\n",
       "        1.12740885e-07, 6.28906264e-07, 6.79013468e-08, 3.34453318e-07,\n",
       "        5.90720788e-08, 4.13448925e-06, 3.83492115e-05, 2.07802103e-07,\n",
       "        1.48384160e-07, 1.14561567e-06, 1.60053673e-07, 1.56013741e-07,\n",
       "        1.08574469e-07, 1.82895135e-07, 4.68483776e-08, 1.65284393e-06,\n",
       "        1.08887366e-06, 5.44774892e-08, 4.66122486e-07, 1.40941370e-06,\n",
       "        5.24501047e-07, 1.83994871e-07, 3.97182198e-09, 9.04476794e-04,\n",
       "        5.30217278e-07, 6.13878504e-09, 1.02772518e-07, 3.74759651e-07,\n",
       "        1.10611902e-08, 2.52935990e-07, 4.38728387e-09, 5.07185938e-08,\n",
       "        8.45887407e-05, 2.28581001e-07, 1.96393458e-07, 1.58833640e-08,\n",
       "        1.39099825e-06, 1.53750747e-07, 4.80991275e-07, 1.67725219e-07,\n",
       "        6.65712357e-01, 6.63931928e-07, 1.82894029e-04, 1.23229332e-03,\n",
       "        8.26355340e-09, 7.66738424e-08, 1.10446729e-06, 2.15591240e-06,\n",
       "        5.86736462e-07, 8.62361685e-06, 1.12996262e-04, 9.83401591e-08,\n",
       "        3.61605089e-07, 4.80717517e-07, 1.09326933e-07, 5.54334214e-08,\n",
       "        2.49162838e-07, 3.14627272e-07, 1.24952820e-07, 1.39384246e-08,\n",
       "        2.35117440e-07, 2.23422152e-08, 7.95600243e-08, 5.09112716e-08,\n",
       "        1.12133011e-05, 4.08748200e-08, 8.84060114e-07, 2.40800855e-08,\n",
       "        3.29325587e-07, 1.05756030e-07, 2.08395790e-08, 4.11824885e-06,\n",
       "        3.92835432e-07, 1.00730713e-05, 5.72942795e-08, 2.81849779e-08,\n",
       "        5.51009443e-08, 3.30808447e-09, 1.02746746e-07, 4.45110899e-08,\n",
       "        1.14588943e-07, 6.39641868e-08, 8.01955213e-09, 7.20363076e-08,\n",
       "        5.47918899e-06, 1.14331389e-08, 4.04708764e-08, 3.21614984e-08,\n",
       "        1.52382682e-07, 1.51733832e-06, 1.24756596e-07, 1.57057684e-07,\n",
       "        1.12464686e-05, 1.33812506e-07, 5.15512795e-07, 1.35959572e-05,\n",
       "        1.06935031e-05, 4.42313251e-07, 1.47000591e-07, 1.47420289e-08,\n",
       "        1.23039555e-07, 1.59520699e-08, 2.79871859e-09, 7.03116099e-09,\n",
       "        9.30293176e-09, 9.69387841e-08, 2.15924456e-09, 1.70059536e-07,\n",
       "        4.14105330e-07, 3.56280140e-07, 1.45690919e-07, 6.80244616e-09,\n",
       "        1.02108046e-08, 6.96434910e-08, 1.03240350e-08, 2.22759606e-08,\n",
       "        1.61263216e-08, 1.01336628e-08, 1.72341270e-08, 1.34936444e-08,\n",
       "        2.01870893e-08, 5.06033926e-09, 1.24594131e-08, 1.39497480e-09,\n",
       "        2.80070100e-08, 1.78931963e-08, 1.04724300e-07, 2.13081535e-08,\n",
       "        1.61685776e-08, 2.06649826e-08, 3.60492550e-07, 1.26848917e-07,\n",
       "        2.23770567e-08, 1.32506370e-08, 4.10259190e-06, 8.23864088e-09,\n",
       "        9.83954518e-09, 3.54923415e-08, 9.69574110e-09, 3.50862539e-09,\n",
       "        2.84219559e-09, 1.27700446e-08, 2.85982633e-08, 7.67666553e-09,\n",
       "        1.78359514e-08, 1.34145736e-07, 3.01009413e-06, 7.62553469e-08,\n",
       "        2.82510570e-07, 1.90899357e-07, 2.01079942e-07, 5.61332172e-07,\n",
       "        3.16832825e-07, 2.49809636e-06, 2.16825902e-06, 7.89723231e-07,\n",
       "        9.20520549e-08, 1.17787087e-08, 1.73771269e-07, 5.74706007e-08,\n",
       "        1.21679363e-06, 2.32813635e-09, 1.90545757e-09, 7.45340856e-08,\n",
       "        2.74293921e-08, 1.32196618e-08, 1.08796119e-08, 2.27982202e-08,\n",
       "        1.64746405e-09, 4.83089346e-09, 1.92280636e-09, 1.59496967e-08,\n",
       "        2.96257898e-08, 7.34232730e-10, 5.54742456e-08, 3.27812550e-08]],\n",
       "      dtype=float32)"
      ]
     },
     "execution_count": 12,
     "metadata": {},
     "output_type": "execute_result"
    }
   ],
   "source": [
    "preds"
   ]
  },
  {
   "cell_type": "code",
   "execution_count": 13,
   "metadata": {
    "executionInfo": {
     "elapsed": 3,
     "status": "ok",
     "timestamp": 1641151229625,
     "user": {
      "displayName": "Bernardin Ligan",
      "photoUrl": "https://lh3.googleusercontent.com/a/default-user=s64",
      "userId": "14612614719297886760"
     },
     "user_tz": -60
    },
    "id": "OATUc7_nL9Dq"
   },
   "outputs": [],
   "source": [
    "CLASS_INDEX = None"
   ]
  },
  {
   "cell_type": "code",
   "execution_count": 17,
   "metadata": {
    "executionInfo": {
     "elapsed": 318,
     "status": "ok",
     "timestamp": 1641151421003,
     "user": {
      "displayName": "Bernardin Ligan",
      "photoUrl": "https://lh3.googleusercontent.com/a/default-user=s64",
      "userId": "14612614719297886760"
     },
     "user_tz": -60
    },
    "id": "VIptb5oRL9KZ"
   },
   "outputs": [],
   "source": [
    "CLASS_INDEX_PATH = '/content/drive/MyDrive/Car Damage Toolkit New/static/imagenet_class_index.json'"
   ]
  },
  {
   "cell_type": "code",
   "execution_count": 18,
   "metadata": {
    "executionInfo": {
     "elapsed": 349,
     "status": "ok",
     "timestamp": 1641151424787,
     "user": {
      "displayName": "Bernardin Ligan",
      "photoUrl": "https://lh3.googleusercontent.com/a/default-user=s64",
      "userId": "14612614719297886760"
     },
     "user_tz": -60
    },
    "id": "_ef2SESRL9P1"
   },
   "outputs": [],
   "source": [
    "def get_predictions(preds,top=5):\n",
    "    global CLASS_INDEX\n",
    "    \n",
    "    #Load the json file\n",
    "    CLASS_INDEX = json.load(open(CLASS_INDEX_PATH))\n",
    "    \n",
    "    #get the results\n",
    "    results = []\n",
    "    for pred in preds:\n",
    "        top_indices = pred.argsort()[-top:][::-1]\n",
    "        result = [tuple(CLASS_INDEX[str(i)]) + (pred[i],) for i in top_indices]\n",
    "        result.sort(key=lambda x: x[2], reverse=True)\n",
    "        results.append(result)\n",
    "    return results"
   ]
  },
  {
   "cell_type": "code",
   "execution_count": 19,
   "metadata": {
    "colab": {
     "base_uri": "https://localhost:8080/"
    },
    "executionInfo": {
     "elapsed": 308,
     "status": "ok",
     "timestamp": 1641151430115,
     "user": {
      "displayName": "Bernardin Ligan",
      "photoUrl": "https://lh3.googleusercontent.com/a/default-user=s64",
      "userId": "14612614719297886760"
     },
     "user_tz": -60
    },
    "id": "q5zCt3RAMK_c",
    "outputId": "41045307-1e14-459c-f822-7dc60ddbb5e5"
   },
   "outputs": [
    {
     "name": "stdout",
     "output_type": "stream",
     "text": [
      "[[('n04461696', 'tow_truck', 0.66571236), ('n03594945', 'jeep', 0.11169245), ('n04252225', 'snowplow', 0.066141896), ('n03345487', 'fire_engine', 0.04814624), ('n03478589', 'half_track', 0.030427404)]]\n"
     ]
    }
   ],
   "source": [
    "print (get_predictions(preds, top=5))"
   ]
  },
  {
   "cell_type": "code",
   "execution_count": 20,
   "metadata": {
    "executionInfo": {
     "elapsed": 265,
     "status": "ok",
     "timestamp": 1641151435643,
     "user": {
      "displayName": "Bernardin Ligan",
      "photoUrl": "https://lh3.googleusercontent.com/a/default-user=s64",
      "userId": "14612614719297886760"
     },
     "user_tz": -60
    },
    "id": "jg8VNY7_MLCh"
   },
   "outputs": [],
   "source": [
    "#First Check - category list creation"
   ]
  },
  {
   "cell_type": "code",
   "execution_count": 21,
   "metadata": {
    "executionInfo": {
     "elapsed": 3,
     "status": "ok",
     "timestamp": 1641151437164,
     "user": {
      "displayName": "Bernardin Ligan",
      "photoUrl": "https://lh3.googleusercontent.com/a/default-user=s64",
      "userId": "14612614719297886760"
     },
     "user_tz": -60
    },
    "id": "IkRE3MnQMLFZ"
   },
   "outputs": [],
   "source": [
    "from collections import Counter, defaultdict\n",
    "import os\n",
    "import pickle as pk"
   ]
  },
  {
   "cell_type": "code",
   "execution_count": 22,
   "metadata": {
    "executionInfo": {
     "elapsed": 245,
     "status": "ok",
     "timestamp": 1641151493232,
     "user": {
      "displayName": "Bernardin Ligan",
      "photoUrl": "https://lh3.googleusercontent.com/a/default-user=s64",
      "userId": "14612614719297886760"
     },
     "user_tz": -60
    },
    "id": "AZCFN2EMMLIQ"
   },
   "outputs": [],
   "source": [
    "def get_car_categories():\n",
    "    d = defaultdict(float)\n",
    "    img_list = os.listdir('/content/drive/MyDrive/Car Damage Toolkit New/DataSets/car_damage_dataset/01-whole')\n",
    "    for i, img_path in enumerate(img_list):\n",
    "        img = prepare_image('/content/drive/MyDrive/Car Damage Toolkit New/DataSets/car_damage_dataset/01-whole/'+img_path)\n",
    "        out = vgg19.predict(img)\n",
    "        top = get_predictions(out, top=5)\n",
    "        for j in top[0]:\n",
    "            d[j[0:2]] += j[2]\n",
    "        if i % 100 == 0:\n",
    "            print (i, '/', len(img_list), 'complete')\n",
    "    return Counter(d)"
   ]
  },
  {
   "cell_type": "code",
   "execution_count": 23,
   "metadata": {
    "colab": {
     "base_uri": "https://localhost:8080/"
    },
    "executionInfo": {
     "elapsed": 727011,
     "status": "ok",
     "timestamp": 1641152232745,
     "user": {
      "displayName": "Bernardin Ligan",
      "photoUrl": "https://lh3.googleusercontent.com/a/default-user=s64",
      "userId": "14612614719297886760"
     },
     "user_tz": -60
    },
    "id": "GPa0KcjKL9SB",
    "outputId": "7261488e-6855-4b17-9682-358ee44b8e1b"
   },
   "outputs": [
    {
     "name": "stdout",
     "output_type": "stream",
     "text": [
      "0 / 920 complete\n",
      "100 / 920 complete\n",
      "200 / 920 complete\n",
      "300 / 920 complete\n",
      "400 / 920 complete\n",
      "500 / 920 complete\n",
      "600 / 920 complete\n",
      "700 / 920 complete\n",
      "800 / 920 complete\n",
      "900 / 920 complete\n"
     ]
    }
   ],
   "source": [
    "cat_counter=get_car_categories()"
   ]
  },
  {
   "cell_type": "code",
   "execution_count": 24,
   "metadata": {
    "colab": {
     "base_uri": "https://localhost:8080/"
    },
    "executionInfo": {
     "elapsed": 253,
     "status": "ok",
     "timestamp": 1641154256913,
     "user": {
      "displayName": "Bernardin Ligan",
      "photoUrl": "https://lh3.googleusercontent.com/a/default-user=s64",
      "userId": "14612614719297886760"
     },
     "user_tz": -60
    },
    "id": "W9UmuXdfL9Up",
    "outputId": "2c93b493-040c-4fea-8561-0cdb5d547d55"
   },
   "outputs": [
    {
     "data": {
      "text/plain": [
       "[(('n03770679', 'minivan'), 136.78895090240985),\n",
       " (('n04285008', 'sports_car'), 119.89040146674961),\n",
       " (('n03100240', 'convertible'), 74.37932709977031),\n",
       " (('n03930630', 'pickup'), 62.5587771985447),\n",
       " (('n02814533', 'beach_wagon'), 58.054536994954105),\n",
       " (('n04037443', 'racer'), 52.93018546697567),\n",
       " (('n03670208', 'limousine'), 42.237966875662096),\n",
       " (('n03594945', 'jeep'), 38.84352175355889)]"
      ]
     },
     "execution_count": 24,
     "metadata": {},
     "output_type": "execute_result"
    }
   ],
   "source": [
    "cat_counter.most_common()[0:8]"
   ]
  },
  {
   "cell_type": "code",
   "execution_count": 25,
   "metadata": {
    "executionInfo": {
     "elapsed": 4,
     "status": "ok",
     "timestamp": 1641154259404,
     "user": {
      "displayName": "Bernardin Ligan",
      "photoUrl": "https://lh3.googleusercontent.com/a/default-user=s64",
      "userId": "14612614719297886760"
     },
     "user_tz": -60
    },
    "id": "EruWImaGL9XZ"
   },
   "outputs": [],
   "source": [
    "with open('/content/drive/MyDrive/Car Damage Toolkit New/static/cat_counter.pk', 'wb') as f:\n",
    "   pk.dump(cat_counter,f,-1)"
   ]
  },
  {
   "cell_type": "code",
   "execution_count": 26,
   "metadata": {
    "executionInfo": {
     "elapsed": 4,
     "status": "ok",
     "timestamp": 1641154261231,
     "user": {
      "displayName": "Bernardin Ligan",
      "photoUrl": "https://lh3.googleusercontent.com/a/default-user=s64",
      "userId": "14612614719297886760"
     },
     "user_tz": -60
    },
    "id": "B2HEZciuLm-d"
   },
   "outputs": [],
   "source": [
    "# This piece of code will be used to load already saved cat_counter\n",
    "with open('/content/drive/MyDrive/Car Damage Toolkit New/static/cat_counter.pk', 'rb') as f:\n",
    "    cat_counter = pk.load(f)"
   ]
  },
  {
   "cell_type": "code",
   "execution_count": 27,
   "metadata": {
    "executionInfo": {
     "elapsed": 3,
     "status": "ok",
     "timestamp": 1641154263505,
     "user": {
      "displayName": "Bernardin Ligan",
      "photoUrl": "https://lh3.googleusercontent.com/a/default-user=s64",
      "userId": "14612614719297886760"
     },
     "user_tz": -60
    },
    "id": "QFuOTqpcMnu3"
   },
   "outputs": [],
   "source": [
    "cat_list  = [k for k, v in cat_counter.most_common()[:27]]"
   ]
  },
  {
   "cell_type": "code",
   "execution_count": 28,
   "metadata": {
    "colab": {
     "base_uri": "https://localhost:8080/"
    },
    "executionInfo": {
     "elapsed": 5,
     "status": "ok",
     "timestamp": 1641154264631,
     "user": {
      "displayName": "Bernardin Ligan",
      "photoUrl": "https://lh3.googleusercontent.com/a/default-user=s64",
      "userId": "14612614719297886760"
     },
     "user_tz": -60
    },
    "id": "xDLr3hDDMnxr",
    "outputId": "c4319a2d-e8dc-466d-fa3d-f477f78aa667"
   },
   "outputs": [
    {
     "data": {
      "text/plain": [
       "[('n03770679', 'minivan'),\n",
       " ('n04285008', 'sports_car'),\n",
       " ('n03100240', 'convertible'),\n",
       " ('n03930630', 'pickup'),\n",
       " ('n02814533', 'beach_wagon'),\n",
       " ('n04037443', 'racer'),\n",
       " ('n03670208', 'limousine'),\n",
       " ('n03594945', 'jeep'),\n",
       " ('n03769881', 'minibus'),\n",
       " ('n02974003', 'car_wheel'),\n",
       " ('n02930766', 'cab'),\n",
       " ('n04461696', 'tow_truck'),\n",
       " ('n03459775', 'grille'),\n",
       " ('n03796401', 'moving_van'),\n",
       " ('n04252225', 'snowplow'),\n",
       " ('n03977966', 'police_van'),\n",
       " ('n02701002', 'ambulance'),\n",
       " ('n04065272', 'recreational_vehicle'),\n",
       " ('n04467665', 'trailer_truck'),\n",
       " ('n03891332', 'parking_meter'),\n",
       " ('n03345487', 'fire_engine'),\n",
       " ('n03777568', 'Model_T'),\n",
       " ('n03791053', 'motor_scooter'),\n",
       " ('n02965783', 'car_mirror'),\n",
       " ('n03445924', 'golfcart'),\n",
       " ('n04252077', 'snowmobile'),\n",
       " ('n02704792', 'amphibian')]"
      ]
     },
     "execution_count": 28,
     "metadata": {},
     "output_type": "execute_result"
    }
   ],
   "source": [
    "cat_list"
   ]
  },
  {
   "cell_type": "code",
   "execution_count": 29,
   "metadata": {
    "executionInfo": {
     "elapsed": 350,
     "status": "ok",
     "timestamp": 1641154266661,
     "user": {
      "displayName": "Bernardin Ligan",
      "photoUrl": "https://lh3.googleusercontent.com/a/default-user=s64",
      "userId": "14612614719297886760"
     },
     "user_tz": -60
    },
    "id": "tmmSNB8bMn0l"
   },
   "outputs": [],
   "source": [
    "def car_categories_gate(image_path, cat_list):\n",
    "    img = prepare_image(image_path)\n",
    "    out = vgg19.predict(img)\n",
    "    top = get_predictions(out, top=5)\n",
    "    print (\"Validating that this is a picture of your car...\")\n",
    "    for j in top[0]:\n",
    "        if j[0:2] in cat_list:\n",
    "            print (j[0:2])\n",
    "            return \"Validation complete - proceed to damage evaluation\"\n",
    "    return \"Are you sure this is a picture of your car? Please take another picture (try a different angle or lighting) and try again.\""
   ]
  },
  {
   "cell_type": "code",
   "execution_count": 30,
   "metadata": {
    "colab": {
     "base_uri": "https://localhost:8080/",
     "height": 70
    },
    "executionInfo": {
     "elapsed": 1558,
     "status": "ok",
     "timestamp": 1641154269267,
     "user": {
      "displayName": "Bernardin Ligan",
      "photoUrl": "https://lh3.googleusercontent.com/a/default-user=s64",
      "userId": "14612614719297886760"
     },
     "user_tz": -60
    },
    "id": "dRT0G9gXMn3n",
    "outputId": "cc3860fa-81d8-4495-9927-03bb2e3194a0"
   },
   "outputs": [
    {
     "name": "stdout",
     "output_type": "stream",
     "text": [
      "Validating that this is a picture of your car...\n",
      "('n03770679', 'minivan')\n"
     ]
    },
    {
     "data": {
      "application/vnd.google.colaboratory.intrinsic+json": {
       "type": "string"
      },
      "text/plain": [
       "'Validation complete - proceed to damage evaluation'"
      ]
     },
     "execution_count": 30,
     "metadata": {},
     "output_type": "execute_result"
    }
   ],
   "source": [
    "car_categories_gate('/content/drive/MyDrive/Car Damage Toolkit New/DataSets/car_damage_dataset/data2a/validation/00-front/0004.jpeg', cat_list)"
   ]
  },
  {
   "cell_type": "code",
   "execution_count": null,
   "metadata": {
    "id": "MYBilNx1Mn7A"
   },
   "outputs": [],
   "source": []
  },
  {
   "cell_type": "code",
   "execution_count": null,
   "metadata": {
    "id": "HB_PMLJ5Mn9w"
   },
   "outputs": [],
   "source": []
  },
  {
   "cell_type": "code",
   "execution_count": null,
   "metadata": {
    "id": "FEMdj0tcLnC5"
   },
   "outputs": [],
   "source": []
  }
 ],
 "metadata": {
  "colab": {
   "authorship_tag": "ABX9TyMA2sHY8iSSNkIBNqjYALUo",
   "name": "first_check : Car or Not.ipynb",
   "provenance": []
  },
  "kernelspec": {
   "display_name": "Python 3 (ipykernel)",
   "language": "python",
   "name": "python3"
  },
  "language_info": {
   "codemirror_mode": {
    "name": "ipython",
    "version": 3
   },
   "file_extension": ".py",
   "mimetype": "text/x-python",
   "name": "python",
   "nbconvert_exporter": "python",
   "pygments_lexer": "ipython3",
   "version": "3.9.12"
  }
 },
 "nbformat": 4,
 "nbformat_minor": 1
}
